{
 "cells": [
  {
   "cell_type": "markdown",
   "id": "f2623a89",
   "metadata": {},
   "source": [
    "# Action Detection "
   ]
  },
  {
   "cell_type": "markdown",
   "id": "066c4f6a",
   "metadata": {},
   "source": [
    "In computer vision, action recognition is the task of identifying when a person in an image or video is performing a given action. AI models can be trained to recognize a variety of actions, from running and sleeping to drinking, falling, or riding a bike.\n",
    "\n",
    "Learning to detect, and distinguish between, different actions is an essential task for both humans and computer vision models. Human actions are everywhere from home surveillance systems to films and TV shows. This subfield of computer vision presents challenges due to the need for contextual information: for example, the same motion can represent different actions (e.g. locking a door or starting a car).\n",
    "\n",
    "\n",
    "like : Human Action Recognition with Deep Neural Network\n",
    " \n",
    "\n",
    "There are 13 actions:\n",
    "1 Jumping in place\n",
    "2 Jumping jacks\n",
    "3 Bending - hands up all the way down 4 Punching (boxing)\n",
    "5 Waving - two hands\n",
    "6 Waving - one hand (right) 7 Clapping hands\n",
    "8 Throwing a ball 9 Sit down then stand up\n",
    "10 Sit down\n",
    "11 Stand up\n",
    "12 T-pose\n",
    "\n",
    "\n",
    "https://www.kaggle.com/code/dasmehdixtr/human-action-recognition-with-deep-neural-network"
   ]
  },
  {
   "cell_type": "markdown",
   "id": "4d15a95d",
   "metadata": {},
   "source": [
    "# Seen Detection"
   ]
  },
  {
   "cell_type": "markdown",
   "id": "bad28017",
   "metadata": {},
   "source": [
    "Scene detection, also known as scene boundary detection or video scene segmentation, is an algorithm that automatically performs tasks on a large scale.\n",
    "\n",
    "Scene detection is used to detect the transition between shots in the video, thereby splitting the video into different periods.\n",
    "\n",
    "Video Scene Detection and Classification: PySceneDetect, Places365 and Mozilla DeepSpeech Engine\n",
    "https://zwolf12.medium.com/video-scene-detection-and-classification-pyscenedetect-places365-and-mozilla-deepspeech-engine-51338e3dbacc"
   ]
  },
  {
   "cell_type": "markdown",
   "id": "00275c13",
   "metadata": {},
   "source": [
    "# Implemeting any opencv code with sikit-image"
   ]
  },
  {
   "cell_type": "code",
   "execution_count": 8,
   "id": "a7ca6338",
   "metadata": {
    "ExecuteTime": {
     "end_time": "2022-10-15T22:35:24.676017Z",
     "start_time": "2022-10-15T22:35:23.826422Z"
    }
   },
   "outputs": [
    {
     "data": {
      "image/jpeg": "[encoded data removed]",
      "text/html": [
       "\n",
       "        <iframe\n",
       "            width=\"400\"\n",
       "            height=\"300\"\n",
       "            src=\"https://www.youtube.com/embed/RcQL8ATgKos\"\n",
       "            frameborder=\"0\"\n",
       "            allowfullscreen\n",
       "            \n",
       "        ></iframe>\n",
       "        "
      ],
      "text/plain": [
       "<IPython.lib.display.YouTubeVideo at 0x1d6034103a0>"
      ]
     },
     "execution_count": 8,
     "metadata": {},
     "output_type": "execute_result"
    }
   ],
   "source": [
    "from IPython.display import YouTubeVideo\n",
    "YouTubeVideo('RcQL8ATgKos')"
   ]
  },
  {
   "cell_type": "markdown",
   "id": "95e0f914",
   "metadata": {},
   "source": [
    "# Masking"
   ]
  },
  {
   "cell_type": "code",
   "execution_count": 6,
   "id": "d0ec2aac",
   "metadata": {
    "ExecuteTime": {
     "end_time": "2022-10-15T21:23:43.769884Z",
     "start_time": "2022-10-15T21:23:32.135022Z"
    }
   },
   "outputs": [],
   "source": [
    "####################################\n",
    "#\n",
    "#    Find contours of an image\n",
    "#       and mask backgroung\n",
    "#\n",
    "#                by\n",
    "#\n",
    "#         Code Monkey King\n",
    "#\n",
    "####################################\n",
    "\n",
    "# packages\n",
    "import cv2\n",
    "import numpy as np\n",
    "\n",
    "# open source image file\n",
    "image = cv2.imread('me.jpg', cv2.IMREAD_UNCHANGED)\n",
    "\n",
    "# convert image to grayscale\n",
    "image_gray = cv2.cvtColor(image, cv2.COLOR_BGR2GRAY)\n",
    "\n",
    "# onvert image to blck and white\n",
    "thresh, image_edges = cv2.threshold(image_gray, 150, 255, cv2.THRESH_BINARY)\n",
    "\n",
    "# create canvas\n",
    "canvas = np.zeros(image.shape, np.uint8)\n",
    "canvas.fill(255)\n",
    "\n",
    "# create background mask\n",
    "mask = np.zeros(image.shape, np.uint8)\n",
    "mask.fill(255)\n",
    "\n",
    "# create new background\n",
    "new_background = np.zeros(image.shape, np.uint8)\n",
    "new_background.fill(255)\n",
    "\n",
    "# get all contours\n",
    "contours_draw, hierachy = cv2.findContours(image_edges, cv2.RETR_LIST, cv2.CHAIN_APPROX_NONE)\n",
    "\n",
    "# get most significant contours\n",
    "contours_mask, hierachy = cv2.findContours(image_edges, cv2.RETR_EXTERNAL, cv2.CHAIN_APPROX_NONE)\n",
    "\n",
    "# draw all contours\n",
    "#cv2.drawContours(canvas, contours_draw, 1, (0, 0, 0), 3)\n",
    "\n",
    "# contours traversal\n",
    "for contour in range(len(contours_draw)):\n",
    "    # draw current contour\n",
    "    cv2.drawContours(canvas, contours_draw, contour, (0, 0, 0), 3)\n",
    "\n",
    "# most significant contours traversal\n",
    "for contour in range(len(contours_mask)):\n",
    "    # create mask\n",
    "    if contour != 1:\n",
    "        cv2.fillConvexPoly(mask, contours_mask[contour], (0, 0, 0))\n",
    "\n",
    "    # create background\n",
    "    if contour != 1:\n",
    "        cv2.fillConvexPoly(new_background, contours_mask[contour], (0, 255, 0))\n",
    "\n",
    "# display the image in a window\n",
    "cv2.imshow('Original', image)\n",
    "cv2.imshow('Contours', canvas)\n",
    "cv2.imshow('Background mask', mask)\n",
    "cv2.imshow('New background', new_background)\n",
    "cv2.imshow('Output', cv2.bitwise_and(image, new_background))\n",
    "\n",
    "# write images\n",
    "cv2.imwrite('contours.png', canvas)\n",
    "cv2.imwrite('mask.png', mask)\n",
    "cv2.imwrite('background.png', new_background)\n",
    "cv2.imwrite('output.png', cv2.bitwise_and(image, new_background))\n",
    "\n",
    "# escape condition\n",
    "cv2.waitKey(0)\n",
    "\n",
    "# clean up windows\n",
    "cv2.destroyAllWindows()\n"
   ]
  },
  {
   "cell_type": "markdown",
   "id": "82b3777e",
   "metadata": {
    "ExecuteTime": {
     "end_time": "2022-10-15T22:22:51.227459Z",
     "start_time": "2022-10-15T22:22:51.129862Z"
    }
   },
   "source": [
    "<div class=\"ir is it iu iv\"><h1 id=\"baae\" class=\"mg mh iy bm mi mj mk ml mm mn mo mp mq ke mr kf ms kh mt ki mu kk mv kl mw mx ga\" data-selectable-paragraph=\"\">Image Annotation Types</h1><p id=\"a2ec\" class=\"pw-post-body-paragraph ld le iy lf b lg my jz li lj mz kc ll lm na lo lp lq nb ls lt lu nc lw lx ly ir ga\" data-selectable-paragraph=\"\">Before jumping into image annotations, it is useful to know about the different annotation types that exist so that you pick the right type for your use-case.</p><p id=\"52f5\" class=\"pw-post-body-paragraph ld le iy lf b lg lh jz li lj lk kc ll lm ln lo lp lq lr ls lt lu lv lw lx ly ir ga\" data-selectable-paragraph=\"\">Here are a few different types of annotations:</p><p id=\"85c5\" class=\"pw-post-body-paragraph ld le iy lf b lg lh jz li lj lk kc ll lm ln lo lp lq lr ls lt lu lv lw lx ly ir ga\" data-selectable-paragraph=\"\"><strong class=\"lf iz\">Bounding boxes: </strong>Bounding boxes are the most commonly used type of annotation in computer vision. Bounding boxes are rectangular boxes used to define the location of the target object. They can be determined by the 𝑥 and 𝑦 axis coordinates in the upper-left corner and the 𝑥 and 𝑦 axis coordinates in the lower-right corner of the rectangle. Bounding boxes are generally used in object detection and localisation tasks.</p><figure class=\"ko kp kq kr gx ks gl gm paragraph-image\"><div role=\"button\" tabindex=\"0\" class=\"kt ku do kv ce kw\"><div class=\"gl gm nd\"><picture><source data-testid=\"og\" srcset=\"https://miro.medium.com/max/640/1*__7JNqqc-nQCu0-WduK6rw.png 640w, https://miro.medium.com/max/720/1*__7JNqqc-nQCu0-WduK6rw.png 720w, https://miro.medium.com/max/750/1*__7JNqqc-nQCu0-WduK6rw.png 750w, https://miro.medium.com/max/786/1*__7JNqqc-nQCu0-WduK6rw.png 786w, https://miro.medium.com/max/828/1*__7JNqqc-nQCu0-WduK6rw.png 828w, https://miro.medium.com/max/1100/1*__7JNqqc-nQCu0-WduK6rw.png 1100w, https://miro.medium.com/max/1400/1*__7JNqqc-nQCu0-WduK6rw.png 1400w\" sizes=\"(min-resolution: 4dppx) and (max-width: 700px) 50vw, (-webkit-min-device-pixel-ratio: 4) and (max-width: 700px) 50vw, (min-resolution: 3dppx) and (max-width: 700px) 67vw, (-webkit-min-device-pixel-ratio: 3) and (max-width: 700px) 65vw, (min-resolution: 2.5dppx) and (max-width: 700px) 80vw, (-webkit-min-device-pixel-ratio: 2.5) and (max-width: 700px) 80vw, (min-resolution: 2dppx) and (max-width: 700px) 100vw, (-webkit-min-device-pixel-ratio: 2) and (max-width: 700px) 100vw, 700px\"><img alt=\"\" class=\"ce kx ky c\" width=\"700\" height=\"443\" loading=\"eager\" role=\"presentation\" src=\"https://miro.medium.com/max/875/1*__7JNqqc-nQCu0-WduK6rw.png\"></picture></div></div><figcaption class=\"kz bl gn gl gm la lb bm b bn bo cn\" data-selectable-paragraph=\"\">Bounding box for detected cars (Original Photo by <a class=\"au lc\" href=\"https://unsplash.com/@jekkilicious?utm_source=unsplash&amp;utm_medium=referral&amp;utm_content=creditCopyText\" rel=\"noopener ugc nofollow\" target=\"_blank\" data-ur1313m3t=\"true\">Patricia Jekki</a> on <a class=\"au lc\" href=\"https://unsplash.com/?utm_source=unsplash&amp;utm_medium=referral&amp;utm_content=creditCopyText\" rel=\"noopener ugc nofollow\" target=\"_blank\" data-ur1313m3t=\"true\">Unsplash</a>)</figcaption></figure><p id=\"0dcd\" class=\"pw-post-body-paragraph ld le iy lf b lg lh jz li lj lk kc ll lm ln lo lp lq lr ls lt lu lv lw lx ly ir ga\" data-selectable-paragraph=\"\">Bounding boxes are usually represented by either two coordinates (x1, y1) and (x2, y2) or by one co-ordinate (x1, y1) and width (w) and height (h) of the bounding box. <em class=\"ne\">(See image below)</em></p><figure class=\"ko kp kq kr gx ks gl gm paragraph-image\"><div role=\"button\" tabindex=\"0\" class=\"kt ku do kv ce kw\"><div class=\"gl gm nf\"><picture><source data-testid=\"og\" srcset=\"https://miro.medium.com/max/640/1*GTRFOXAF5fUf853dHKgZEA.jpeg 640w, https://miro.medium.com/max/720/1*GTRFOXAF5fUf853dHKgZEA.jpeg 720w, https://miro.medium.com/max/750/1*GTRFOXAF5fUf853dHKgZEA.jpeg 750w, https://miro.medium.com/max/786/1*GTRFOXAF5fUf853dHKgZEA.jpeg 786w, https://miro.medium.com/max/828/1*GTRFOXAF5fUf853dHKgZEA.jpeg 828w, https://miro.medium.com/max/1100/1*GTRFOXAF5fUf853dHKgZEA.jpeg 1100w, https://miro.medium.com/max/1400/1*GTRFOXAF5fUf853dHKgZEA.jpeg 1400w\" sizes=\"(min-resolution: 4dppx) and (max-width: 700px) 50vw, (-webkit-min-device-pixel-ratio: 4) and (max-width: 700px) 50vw, (min-resolution: 3dppx) and (max-width: 700px) 67vw, (-webkit-min-device-pixel-ratio: 3) and (max-width: 700px) 65vw, (min-resolution: 2.5dppx) and (max-width: 700px) 80vw, (-webkit-min-device-pixel-ratio: 2.5) and (max-width: 700px) 80vw, (min-resolution: 2dppx) and (max-width: 700px) 100vw, (-webkit-min-device-pixel-ratio: 2) and (max-width: 700px) 100vw, 700px\"><img alt=\"\" class=\"ce kx ky c\" width=\"700\" height=\"467\" loading=\"lazy\" role=\"presentation\" src=\"https://miro.medium.com/max/875/1*GTRFOXAF5fUf853dHKgZEA.jpeg\"></picture></div></div><figcaption class=\"kz bl gn gl gm la lb bm b bn bo cn\" data-selectable-paragraph=\"\">Bounding Box showing co-ordinates x1, y1, x2, y2, width (w) and height (h) (Photo by <a class=\"au lc\" href=\"https://unsplash.com/@anvision?utm_source=unsplash&amp;utm_medium=referral&amp;utm_content=creditCopyText\" rel=\"noopener ugc nofollow\" target=\"_blank\" data-ur1313m3t=\"true\">an_vision</a> on <a class=\"au lc\" href=\"https://unsplash.com/?utm_source=unsplash&amp;utm_medium=referral&amp;utm_content=creditCopyText\" rel=\"noopener ugc nofollow\" target=\"_blank\" data-ur1313m3t=\"true\">Unsplash</a>)</figcaption></figure><p id=\"8c66\" class=\"pw-post-body-paragraph ld le iy lf b lg lh jz li lj lk kc ll lm ln lo lp lq lr ls lt lu lv lw lx ly ir ga\" data-selectable-paragraph=\"\"><strong class=\"lf iz\">Polygonal Segmentation:</strong> Objects are not always rectangle in shape. With this idea, polygonal segmentations is another type of data annotation where complex polygons are used instead of rectangles to define the shape and location of the object in a much precise way.</p><div class=\"ko kp kq kr gx o hc\"><figure class=\"ng ks nh ni nj nk nl paragraph-image\"><div role=\"button\" tabindex=\"0\" class=\"kt ku do kv ce kw\"><picture><source data-testid=\"og\" srcset=\"https://miro.medium.com/max/640/1*mvAz7lcEqusO24AyXyIxLQ.png 640w, https://miro.medium.com/max/720/1*mvAz7lcEqusO24AyXyIxLQ.png 720w, https://miro.medium.com/max/750/1*mvAz7lcEqusO24AyXyIxLQ.png 750w, https://miro.medium.com/max/786/1*mvAz7lcEqusO24AyXyIxLQ.png 786w, https://miro.medium.com/max/828/1*mvAz7lcEqusO24AyXyIxLQ.png 828w, https://miro.medium.com/max/1100/1*mvAz7lcEqusO24AyXyIxLQ.png 1100w, https://miro.medium.com/max/934/1*mvAz7lcEqusO24AyXyIxLQ.png 934w\" sizes=\"(min-resolution: 4dppx) and (max-width: 700px) 50vw, (-webkit-min-device-pixel-ratio: 4) and (max-width: 700px) 50vw, (min-resolution: 3dppx) and (max-width: 700px) 67vw, (-webkit-min-device-pixel-ratio: 3) and (max-width: 700px) 65vw, (min-resolution: 2.5dppx) and (max-width: 700px) 80vw, (-webkit-min-device-pixel-ratio: 2.5) and (max-width: 700px) 80vw, (min-resolution: 2dppx) and (max-width: 700px) 100vw, (-webkit-min-device-pixel-ratio: 2) and (max-width: 700px) 100vw, 467px\"><img alt=\"\" class=\"ce kx ky c\" width=\"467\" height=\"1002\" loading=\"eager\" role=\"presentation\" src=\"https://miro.medium.com/max/840/1*mvAz7lcEqusO24AyXyIxLQ.png\"></picture></div></figure><figure class=\"ng ks nm ni nj nk nl paragraph-image\"><div role=\"button\" tabindex=\"0\" class=\"kt ku do kv ce kw\"><picture><source data-testid=\"og\" srcset=\"https://miro.medium.com/max/640/1*K-GgaRHr6a1QhMBBKlJ_nw.png 640w, https://miro.medium.com/max/720/1*K-GgaRHr6a1QhMBBKlJ_nw.png 720w, https://miro.medium.com/max/750/1*K-GgaRHr6a1QhMBBKlJ_nw.png 750w, https://miro.medium.com/max/786/1*K-GgaRHr6a1QhMBBKlJ_nw.png 786w, https://miro.medium.com/max/828/1*K-GgaRHr6a1QhMBBKlJ_nw.png 828w, https://miro.medium.com/max/1100/1*K-GgaRHr6a1QhMBBKlJ_nw.png 1100w, https://miro.medium.com/max/1068/1*K-GgaRHr6a1QhMBBKlJ_nw.png 1068w\" sizes=\"(min-resolution: 4dppx) and (max-width: 700px) 50vw, (-webkit-min-device-pixel-ratio: 4) and (max-width: 700px) 50vw, (min-resolution: 3dppx) and (max-width: 700px) 67vw, (-webkit-min-device-pixel-ratio: 3) and (max-width: 700px) 65vw, (min-resolution: 2.5dppx) and (max-width: 700px) 80vw, (-webkit-min-device-pixel-ratio: 2.5) and (max-width: 700px) 80vw, (min-resolution: 2dppx) and (max-width: 700px) 100vw, (-webkit-min-device-pixel-ratio: 2) and (max-width: 700px) 100vw, 534px\"><img alt=\"\" class=\"ce kx ky c\" width=\"534\" height=\"1282\" loading=\"eager\" role=\"presentation\" src=\"https://miro.medium.com/max/1228/1*K-GgaRHr6a1QhMBBKlJ_nw.png\"></picture></div><figcaption class=\"kz bl gn gl gm la lb bm b bn bo cn nn do no np\" data-selectable-paragraph=\"\">Polygonal segmentation of images from COCO dataset (<a class=\"au lc\" href=\"http://cocodataset.org/#explore\" rel=\"noopener ugc nofollow\" target=\"_blank\" data-ur1313m3t=\"true\">Source</a>)</figcaption></figure></div><p id=\"0746\" class=\"pw-post-body-paragraph ld le iy lf b lg lh jz li lj lk kc ll lm ln lo lp lq lr ls lt lu lv lw lx ly ir ga\" data-selectable-paragraph=\"\"><strong class=\"lf iz\">Semantic Segmentation:</strong> Semantic segmentation is a pixel wise annotation, where every pixel in the image is assigned to a class. These classes could be pedestrian, car, bus, road, sidewalk, etc., and each pixel carry a semantic meaning.</p><p id=\"49ee\" class=\"pw-post-body-paragraph ld le iy lf b lg lh jz li lj lk kc ll lm ln lo lp lq lr ls lt lu lv lw lx ly ir ga\" data-selectable-paragraph=\"\">Semantic Segmentation is primarily used in cases where environmental context is very important. For example, it is used in self-driving cars and robotics because for the models to understand the environment they are operating in.</p><div class=\"ko kp kq kr gx o hc\"><figure class=\"ng ks nq ni nj nk nl paragraph-image\"><div role=\"button\" tabindex=\"0\" class=\"kt ku do kv ce kw\"><picture><source data-testid=\"og\" srcset=\"https://miro.medium.com/max/640/1*P0NAnrDIsWSIWGkP-2M2eg.png 640w, https://miro.medium.com/max/720/1*P0NAnrDIsWSIWGkP-2M2eg.png 720w, https://miro.medium.com/max/750/1*P0NAnrDIsWSIWGkP-2M2eg.png 750w, https://miro.medium.com/max/786/1*P0NAnrDIsWSIWGkP-2M2eg.png 786w, https://miro.medium.com/max/828/1*P0NAnrDIsWSIWGkP-2M2eg.png 828w, https://miro.medium.com/max/1100/1*P0NAnrDIsWSIWGkP-2M2eg.png 1100w, https://miro.medium.com/max/1000/1*P0NAnrDIsWSIWGkP-2M2eg.png 1000w\" sizes=\"(min-resolution: 4dppx) and (max-width: 700px) 50vw, (-webkit-min-device-pixel-ratio: 4) and (max-width: 700px) 50vw, (min-resolution: 3dppx) and (max-width: 700px) 67vw, (-webkit-min-device-pixel-ratio: 3) and (max-width: 700px) 65vw, (min-resolution: 2.5dppx) and (max-width: 700px) 80vw, (-webkit-min-device-pixel-ratio: 2.5) and (max-width: 700px) 80vw, (min-resolution: 2dppx) and (max-width: 700px) 100vw, (-webkit-min-device-pixel-ratio: 2) and (max-width: 700px) 100vw, 500px\"><img alt=\"\" class=\"ce kx ky c\" width=\"500\" height=\"512\" loading=\"eager\" role=\"presentation\" src=\"https://miro.medium.com/max/1280/1*P0NAnrDIsWSIWGkP-2M2eg.png\"></picture></div></figure><figure class=\"ng ks nq ni nj nk nl paragraph-image\"><div role=\"button\" tabindex=\"0\" class=\"kt ku do kv ce kw\"><picture><source data-testid=\"og\" srcset=\"https://miro.medium.com/max/640/1*UYNcOtnhDFTp8qHEu5nafQ.png 640w, https://miro.medium.com/max/720/1*UYNcOtnhDFTp8qHEu5nafQ.png 720w, https://miro.medium.com/max/750/1*UYNcOtnhDFTp8qHEu5nafQ.png 750w, https://miro.medium.com/max/786/1*UYNcOtnhDFTp8qHEu5nafQ.png 786w, https://miro.medium.com/max/828/1*UYNcOtnhDFTp8qHEu5nafQ.png 828w, https://miro.medium.com/max/1100/1*UYNcOtnhDFTp8qHEu5nafQ.png 1100w, https://miro.medium.com/max/1000/1*UYNcOtnhDFTp8qHEu5nafQ.png 1000w\" sizes=\"(min-resolution: 4dppx) and (max-width: 700px) 50vw, (-webkit-min-device-pixel-ratio: 4) and (max-width: 700px) 50vw, (min-resolution: 3dppx) and (max-width: 700px) 67vw, (-webkit-min-device-pixel-ratio: 3) and (max-width: 700px) 65vw, (min-resolution: 2.5dppx) and (max-width: 700px) 80vw, (-webkit-min-device-pixel-ratio: 2.5) and (max-width: 700px) 80vw, (min-resolution: 2dppx) and (max-width: 700px) 100vw, (-webkit-min-device-pixel-ratio: 2) and (max-width: 700px) 100vw, 500px\"><img alt=\"\" class=\"ce kx ky c\" width=\"500\" height=\"512\" loading=\"eager\" role=\"presentation\" src=\"https://miro.medium.com/max/1280/1*UYNcOtnhDFTp8qHEu5nafQ.png\"></picture></div><figcaption class=\"kz bl gn gl gm la lb bm b bn bo cn nr do ns np\" data-selectable-paragraph=\"\">Semantic segmentation of images from Cityscapes Dataset (<a class=\"au lc\" href=\"https://www.cityscapes-dataset.com/examples/#coarse-annotations\" rel=\"noopener ugc nofollow\" target=\"_blank\" data-ur1313m3t=\"true\">Source</a>)</figcaption></figure></div><p id=\"8698\" class=\"pw-post-body-paragraph ld le iy lf b lg lh jz li lj lk kc ll lm ln lo lp lq lr ls lt lu lv lw lx ly ir ga\" data-selectable-paragraph=\"\"><strong class=\"lf iz\">3D cuboids:</strong> 3D cuboids are similar to bounding boxes with additional depth information about the object. Thus, with 3D cuboids you can get a 3D representation of the object, allowing systems to distinguish features like volume and position in a 3D space.</p><p id=\"e301\" class=\"pw-post-body-paragraph ld le iy lf b lg lh jz li lj lk kc ll lm ln lo lp lq lr ls lt lu lv lw lx ly ir ga\" data-selectable-paragraph=\"\">A use-case of 3D cuboids is in self-driving cars where it can use the depth information to measure the distance of objects from the car.</p><figure class=\"ko kp kq kr gx ks gl gm paragraph-image\"><div role=\"button\" tabindex=\"0\" class=\"kt ku do kv ce kw\"><div class=\"gl gm nf\"><picture><source data-testid=\"og\" srcset=\"https://miro.medium.com/max/640/1*QEn9NeCy63TqxjhfCTlakA.jpeg 640w, https://miro.medium.com/max/720/1*QEn9NeCy63TqxjhfCTlakA.jpeg 720w, https://miro.medium.com/max/750/1*QEn9NeCy63TqxjhfCTlakA.jpeg 750w, https://miro.medium.com/max/786/1*QEn9NeCy63TqxjhfCTlakA.jpeg 786w, https://miro.medium.com/max/828/1*QEn9NeCy63TqxjhfCTlakA.jpeg 828w, https://miro.medium.com/max/1100/1*QEn9NeCy63TqxjhfCTlakA.jpeg 1100w, https://miro.medium.com/max/1400/1*QEn9NeCy63TqxjhfCTlakA.jpeg 1400w\" sizes=\"(min-resolution: 4dppx) and (max-width: 700px) 50vw, (-webkit-min-device-pixel-ratio: 4) and (max-width: 700px) 50vw, (min-resolution: 3dppx) and (max-width: 700px) 67vw, (-webkit-min-device-pixel-ratio: 3) and (max-width: 700px) 65vw, (min-resolution: 2.5dppx) and (max-width: 700px) 80vw, (-webkit-min-device-pixel-ratio: 2.5) and (max-width: 700px) 80vw, (min-resolution: 2dppx) and (max-width: 700px) 100vw, (-webkit-min-device-pixel-ratio: 2) and (max-width: 700px) 100vw, 700px\"><img alt=\"\" class=\"ce kx ky c\" width=\"700\" height=\"467\" loading=\"eager\" role=\"presentation\" src=\"https://miro.medium.com/max/875/1*QEn9NeCy63TqxjhfCTlakA.jpeg\"></picture></div></div><figcaption class=\"kz bl gn gl gm la lb bm b bn bo cn\" data-selectable-paragraph=\"\">3D Cuboid annotation on image (Original Photo by <a class=\"au lc\" href=\"https://unsplash.com/@jocac?utm_source=unsplash&amp;utm_medium=referral&amp;utm_content=creditCopyText\" rel=\"noopener ugc nofollow\" target=\"_blank\" data-ur1313m3t=\"true\">Jose Carbajal</a> on <a class=\"au lc\" href=\"https://unsplash.com/?utm_source=unsplash&amp;utm_medium=referral&amp;utm_content=creditCopyText\" rel=\"noopener ugc nofollow\" target=\"_blank\" data-ur1313m3t=\"true\">Unsplash</a>)</figcaption></figure><p id=\"5230\" class=\"pw-post-body-paragraph ld le iy lf b lg lh jz li lj lk kc ll lm ln lo lp lq lr ls lt lu lv lw lx ly ir ga\" data-selectable-paragraph=\"\"><strong class=\"lf iz\">Key-Point and Landmark:</strong> Key-point and landmark annotation is used to detect small objects and shape variations by creating dots across the image. This type of annotation is useful for detecting facial features, facial expressions, emotions, human body parts and poses.</p><figure class=\"ko kp kq kr gx ks gl gm paragraph-image\"><div role=\"button\" tabindex=\"0\" class=\"kt ku do kv ce kw\"><div class=\"gl gm nt\"><picture><source data-testid=\"og\" srcset=\"https://miro.medium.com/max/640/1*i7xQ1IciXpQ0XNer5hzg-g.png 640w, https://miro.medium.com/max/720/1*i7xQ1IciXpQ0XNer5hzg-g.png 720w, https://miro.medium.com/max/750/1*i7xQ1IciXpQ0XNer5hzg-g.png 750w, https://miro.medium.com/max/786/1*i7xQ1IciXpQ0XNer5hzg-g.png 786w, https://miro.medium.com/max/828/1*i7xQ1IciXpQ0XNer5hzg-g.png 828w, https://miro.medium.com/max/1100/1*i7xQ1IciXpQ0XNer5hzg-g.png 1100w, https://miro.medium.com/max/1400/1*i7xQ1IciXpQ0XNer5hzg-g.png 1400w\" sizes=\"(min-resolution: 4dppx) and (max-width: 700px) 50vw, (-webkit-min-device-pixel-ratio: 4) and (max-width: 700px) 50vw, (min-resolution: 3dppx) and (max-width: 700px) 67vw, (-webkit-min-device-pixel-ratio: 3) and (max-width: 700px) 65vw, (min-resolution: 2.5dppx) and (max-width: 700px) 80vw, (-webkit-min-device-pixel-ratio: 2.5) and (max-width: 700px) 80vw, (min-resolution: 2dppx) and (max-width: 700px) 100vw, (-webkit-min-device-pixel-ratio: 2) and (max-width: 700px) 100vw, 700px\"><img alt=\"\" class=\"ce kx ky c\" width=\"700\" height=\"328\" loading=\"lazy\" role=\"presentation\" src=\"https://miro.medium.com/max/875/1*i7xQ1IciXpQ0XNer5hzg-g.png\"></picture></div></div><figcaption class=\"kz bl gn gl gm la lb bm b bn bo cn\" data-selectable-paragraph=\"\">Key-point annotation examples from COCO dataset (<a class=\"au lc\" href=\"http://cocodataset.org/images/keypoints-splash-big.png\" rel=\"noopener ugc nofollow\" target=\"_blank\" data-ur1313m3t=\"true\">Source</a>)</figcaption></figure><p id=\"1753\" class=\"pw-post-body-paragraph ld le iy lf b lg lh jz li lj lk kc ll lm ln lo lp lq lr ls lt lu lv lw lx ly ir ga\" data-selectable-paragraph=\"\"><strong class=\"lf iz\">Lines and Splines:</strong> As the name suggests, this type is annotation is created by using lines and splines. It is commonly used in autonomous vehicles for lane detection and recognition.</p><figure class=\"ko kp kq kr gx ks gl gm paragraph-image\"><div role=\"button\" tabindex=\"0\" class=\"kt ku do kv ce kw\"><div class=\"gl gm nu\"><picture><source data-testid=\"og\" srcset=\"https://miro.medium.com/max/640/1*scjV5Tzr48a2H-OnXEVP7g.jpeg 640w, https://miro.medium.com/max/720/1*scjV5Tzr48a2H-OnXEVP7g.jpeg 720w, https://miro.medium.com/max/750/1*scjV5Tzr48a2H-OnXEVP7g.jpeg 750w, https://miro.medium.com/max/786/1*scjV5Tzr48a2H-OnXEVP7g.jpeg 786w, https://miro.medium.com/max/828/1*scjV5Tzr48a2H-OnXEVP7g.jpeg 828w, https://miro.medium.com/max/1100/1*scjV5Tzr48a2H-OnXEVP7g.jpeg 1100w, https://miro.medium.com/max/1400/1*scjV5Tzr48a2H-OnXEVP7g.jpeg 1400w\" sizes=\"(min-resolution: 4dppx) and (max-width: 700px) 50vw, (-webkit-min-device-pixel-ratio: 4) and (max-width: 700px) 50vw, (min-resolution: 3dppx) and (max-width: 700px) 67vw, (-webkit-min-device-pixel-ratio: 3) and (max-width: 700px) 65vw, (min-resolution: 2.5dppx) and (max-width: 700px) 80vw, (-webkit-min-device-pixel-ratio: 2.5) and (max-width: 700px) 80vw, (min-resolution: 2dppx) and (max-width: 700px) 100vw, (-webkit-min-device-pixel-ratio: 2) and (max-width: 700px) 100vw, 700px\"><img alt=\"\" class=\"ce kx ky c\" width=\"700\" height=\"467\" loading=\"lazy\" role=\"presentation\" src=\"https://miro.medium.com/max/875/1*scjV5Tzr48a2H-OnXEVP7g.jpeg\"></picture></div></div><figcaption class=\"kz bl gn gl gm la lb bm b bn bo cn\" data-selectable-paragraph=\"\">Line annotation on road (Original Photo by <a class=\"au lc\" href=\"https://unsplash.com/@karsten_wuerth?utm_source=unsplash&amp;utm_medium=referral&amp;utm_content=creditCopyText\" rel=\"noopener ugc nofollow\" target=\"_blank\" data-ur1313m3t=\"true\">Karsten Würth</a> on <a class=\"au lc\" href=\"https://unsplash.com/?utm_source=unsplash&amp;utm_medium=referral&amp;utm_content=creditCopyText\" rel=\"noopener ugc nofollow\" target=\"_blank\" data-ur1313m3t=\"true\">Unsplash</a>)</figcaption></figure></div>\n",
    "\n",
    "<br>\n",
    "<p>Source : https://towardsdatascience.com/image-data-labelling-and-annotation-everything-you-need-to-know-86ede6c684b1</p>"
   ]
  }
 ],
 "metadata": {
  "kernelspec": {
   "display_name": "Python 3 (ipykernel)",
   "language": "python",
   "name": "python3"
  },
  "language_info": {
   "codemirror_mode": {
    "name": "ipython",
    "version": 3
   },
   "file_extension": ".py",
   "mimetype": "text/x-python",
   "name": "python",
   "nbconvert_exporter": "python",
   "pygments_lexer": "ipython3",
   "version": "3.8.5"
  },
  "toc": {
   "base_numbering": 1,
   "nav_menu": {},
   "number_sections": true,
   "sideBar": true,
   "skip_h1_title": false,
   "title_cell": "Table of Contents",
   "title_sidebar": "Contents",
   "toc_cell": false,
   "toc_position": {},
   "toc_section_display": true,
   "toc_window_display": false
  },
  "varInspector": {
   "cols": {
    "lenName": 16,
    "lenType": 16,
    "lenVar": 40
   },
   "kernels_config": {
    "python": {
     "delete_cmd_postfix": "",
     "delete_cmd_prefix": "del ",
     "library": "var_list.py",
     "varRefreshCmd": "print(var_dic_list())"
    },
    "r": {
     "delete_cmd_postfix": ") ",
     "delete_cmd_prefix": "rm(",
     "library": "var_list.r",
     "varRefreshCmd": "cat(var_dic_list()) "
    }
   },
   "types_to_exclude": [
    "module",
    "function",
    "builtin_function_or_method",
    "instance",
    "_Feature"
   ],
   "window_display": false
  }
 },
 "nbformat": 4,
 "nbformat_minor": 5
}
