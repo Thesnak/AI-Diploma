{
 "cells": [
  {
   "cell_type": "code",
   "execution_count": 58,
   "id": "7212d824",
   "metadata": {
    "ExecuteTime": {
     "end_time": "2022-09-14T22:46:46.710857Z",
     "start_time": "2022-09-14T22:46:46.701444Z"
    }
   },
   "outputs": [],
   "source": [
    "class Molcule:\n",
    "    def __init__(self,fasta):\n",
    "        records=[record for record in fasta.strip().split('>') if record]\n",
    "        sequences=[]\n",
    "        names=[]\n",
    "        for record in records:\n",
    "            line = record.splitlines()\n",
    "            names.append(line[0].strip())\n",
    "            sequences.append(''.join(line[1:]))\n",
    "        self.__data =dict(zip(names,sequences))\n",
    "    def _getSeq(self):\n",
    "        return self.__data\n",
    "    "
   ]
  },
  {
   "cell_type": "code",
   "execution_count": 115,
   "id": "a0515d74",
   "metadata": {
    "ExecuteTime": {
     "end_time": "2022-09-14T23:41:05.472321Z",
     "start_time": "2022-09-14T23:41:05.444357Z"
    }
   },
   "outputs": [],
   "source": [
    "class DNA(Molcule):\n",
    "    def __init__(self,fasta):\n",
    "        super().__init__(fasta)\n",
    "    def getSeq(self):\n",
    "        self.Dna= super()._getSeq()\n",
    "        return self.Dna\n",
    "        # function to find complement of DNA\n",
    "    def complement(self):\n",
    "        Dna=self.getSeq()\n",
    "        comp={}\n",
    "        for k , v in Dna.items():\n",
    "            DNA = v.upper()\n",
    "            baseComplement = {'A': 'T', 'T': 'A', 'G': 'C', 'C': 'G', 'N': 'N'}\n",
    "            letters = list(DNA)\n",
    "            letters = [baseComplement[base] for base in letters]\n",
    "            seq= ''.join(letters)\n",
    "            comp[k]=seq\n",
    "        return comp\n",
    "\n",
    "\n",
    "        # function to find reverse of DNA\n",
    "    def __reverse(self,DNA):\n",
    "            reverse={}\n",
    "            for k,v in DNA.items():\n",
    "                seq=v[::-1]\n",
    "                reverse[k]=seq\n",
    "            return reverse\n",
    "\n",
    "\n",
    "        # funciton to find reverse complement of DNA\n",
    "    def reverse_complement(self):\n",
    "            \"\"\"This Function takes a seq as a string and returns its reverse complement.\"\"\"\n",
    "            Dna=self.getSeq()\n",
    "            seq = self.complement()\n",
    "            seq = self.__reverse(seq)\n",
    "            return seq\n",
    "    # function to calculate gc precentage in DNA\n",
    "    def gc(self):\n",
    "        \"\"\"This Function takes a seq as a string and returns the gc percentage of it.\"\"\"\n",
    "        Dna=self.getSeq()\n",
    "        gc={}\n",
    "        for k,v in Dna.items():\n",
    "            DNA = v.upper()\n",
    "            nBases = DNA.count('N')\n",
    "            gcBases = DNA.count('G') + DNA.count('C')\n",
    "            precantage = (gcBases / (len(DNA) - nBases)) * 100\n",
    "            gc[k]=[DNA,precantage]\n",
    "        return gc\n"
   ]
  },
  {
   "cell_type": "code",
   "execution_count": 117,
   "id": "bbbd4aed",
   "metadata": {
    "ExecuteTime": {
     "end_time": "2022-09-14T23:41:46.901228Z",
     "start_time": "2022-09-14T23:41:46.894247Z"
    }
   },
   "outputs": [],
   "source": [
    "fasta ='''>id1 description of id1\n",
    "ATGTGTGTCCGTTGTGTAAAGTGTGTC'''\n",
    "dna= DNA(fasta)"
   ]
  },
  {
   "cell_type": "code",
   "execution_count": 118,
   "id": "6b5760ef",
   "metadata": {
    "ExecuteTime": {
     "end_time": "2022-09-14T23:41:48.356257Z",
     "start_time": "2022-09-14T23:41:48.344289Z"
    }
   },
   "outputs": [
    {
     "data": {
      "text/plain": [
       "{'id1 description of id1': 'TACACACAGGCAACACATTTCACACAG'}"
      ]
     },
     "execution_count": 118,
     "metadata": {},
     "output_type": "execute_result"
    }
   ],
   "source": [
    "dna.getSeq()\n",
    "dna.complement()"
   ]
  },
  {
   "cell_type": "code",
   "execution_count": 119,
   "id": "c94cf3ce",
   "metadata": {
    "ExecuteTime": {
     "end_time": "2022-09-14T23:41:49.789449Z",
     "start_time": "2022-09-14T23:41:49.780473Z"
    }
   },
   "outputs": [
    {
     "data": {
      "text/plain": [
       "{'id1 description of id1': 'GACACACTTTACACAACGGACACACAT'}"
      ]
     },
     "execution_count": 119,
     "metadata": {},
     "output_type": "execute_result"
    }
   ],
   "source": [
    "dna.reverse_complement()"
   ]
  },
  {
   "cell_type": "code",
   "execution_count": 120,
   "id": "a0ca7fdf",
   "metadata": {
    "ExecuteTime": {
     "end_time": "2022-09-14T23:41:51.245514Z",
     "start_time": "2022-09-14T23:41:51.236535Z"
    }
   },
   "outputs": [
    {
     "data": {
      "text/plain": [
       "{'id1 description of id1': ['ATGTGTGTCCGTTGTGTAAAGTGTGTC', 44.44444444444444]}"
      ]
     },
     "execution_count": 120,
     "metadata": {},
     "output_type": "execute_result"
    }
   ],
   "source": [
    "dna.gc()"
   ]
  },
  {
   "cell_type": "code",
   "execution_count": 17,
   "id": "a8c0e0db",
   "metadata": {
    "ExecuteTime": {
     "end_time": "2022-09-15T00:10:54.875203Z",
     "start_time": "2022-09-15T00:10:54.864232Z"
    }
   },
   "outputs": [],
   "source": [
    "#Import tkinter library\n",
    "from tkinter import *\n",
    "class gui():\n",
    "    def __init__(self):\n",
    "        win=Tk()\n",
    "        win.geometry(\"750x500\")\n",
    "        win.mainloop()\n",
    "        btn=Button(win, text=\"Press Enter\", command= callback)\n",
    "        btn.pack(ipadx=10)\n",
    "        win.bind('<Return>',lambda event:callback())\n",
    "    def callback():\n",
    "       Label(win, text=\"Hello World!\", font=('Century 20 bold')).pack(pady=4)"
   ]
  },
  {
   "cell_type": "code",
   "execution_count": 18,
   "id": "67b79155",
   "metadata": {
    "ExecuteTime": {
     "end_time": "2022-09-15T00:10:58.341944Z",
     "start_time": "2022-09-15T00:10:56.277454Z"
    }
   },
   "outputs": [
    {
     "ename": "TclError",
     "evalue": "can't invoke \"button\" command: application has been destroyed",
     "output_type": "error",
     "traceback": [
      "\u001b[1;31m---------------------------------------------------------------------------\u001b[0m",
      "\u001b[1;31mTclError\u001b[0m                                  Traceback (most recent call last)",
      "Input \u001b[1;32mIn [18]\u001b[0m, in \u001b[0;36m<cell line: 1>\u001b[1;34m()\u001b[0m\n\u001b[1;32m----> 1\u001b[0m g\u001b[38;5;241m=\u001b[39m\u001b[43mgui\u001b[49m\u001b[43m(\u001b[49m\u001b[43m)\u001b[49m\n",
      "Input \u001b[1;32mIn [17]\u001b[0m, in \u001b[0;36mgui.__init__\u001b[1;34m(self)\u001b[0m\n\u001b[0;32m      6\u001b[0m win\u001b[38;5;241m.\u001b[39mgeometry(\u001b[38;5;124m\"\u001b[39m\u001b[38;5;124m750x500\u001b[39m\u001b[38;5;124m\"\u001b[39m)\n\u001b[0;32m      7\u001b[0m win\u001b[38;5;241m.\u001b[39mmainloop()\n\u001b[1;32m----> 8\u001b[0m btn\u001b[38;5;241m=\u001b[39m\u001b[43mButton\u001b[49m\u001b[43m(\u001b[49m\u001b[43mwin\u001b[49m\u001b[43m,\u001b[49m\u001b[43m \u001b[49m\u001b[43mtext\u001b[49m\u001b[38;5;241;43m=\u001b[39;49m\u001b[38;5;124;43m\"\u001b[39;49m\u001b[38;5;124;43mPress Enter\u001b[39;49m\u001b[38;5;124;43m\"\u001b[39;49m\u001b[43m,\u001b[49m\u001b[43m \u001b[49m\u001b[43mcommand\u001b[49m\u001b[38;5;241;43m=\u001b[39;49m\u001b[43m \u001b[49m\u001b[43mcallback\u001b[49m\u001b[43m)\u001b[49m\n\u001b[0;32m      9\u001b[0m btn\u001b[38;5;241m.\u001b[39mpack(ipadx\u001b[38;5;241m=\u001b[39m\u001b[38;5;241m10\u001b[39m)\n\u001b[0;32m     10\u001b[0m win\u001b[38;5;241m.\u001b[39mbind(\u001b[38;5;124m'\u001b[39m\u001b[38;5;124m<Return>\u001b[39m\u001b[38;5;124m'\u001b[39m,\u001b[38;5;28;01mlambda\u001b[39;00m event:callback())\n",
      "File \u001b[1;32m~\\anaconda3\\lib\\tkinter\\__init__.py:2645\u001b[0m, in \u001b[0;36mButton.__init__\u001b[1;34m(self, master, cnf, **kw)\u001b[0m\n\u001b[0;32m   2626\u001b[0m \u001b[38;5;28;01mdef\u001b[39;00m \u001b[38;5;21m__init__\u001b[39m(\u001b[38;5;28mself\u001b[39m, master\u001b[38;5;241m=\u001b[39m\u001b[38;5;28;01mNone\u001b[39;00m, cnf\u001b[38;5;241m=\u001b[39m{}, \u001b[38;5;241m*\u001b[39m\u001b[38;5;241m*\u001b[39mkw):\n\u001b[0;32m   2627\u001b[0m     \u001b[38;5;124;03m\"\"\"Construct a button widget with the parent MASTER.\u001b[39;00m\n\u001b[0;32m   2628\u001b[0m \n\u001b[0;32m   2629\u001b[0m \u001b[38;5;124;03m    STANDARD OPTIONS\u001b[39;00m\n\u001b[1;32m   (...)\u001b[0m\n\u001b[0;32m   2643\u001b[0m \u001b[38;5;124;03m        overrelief, state, width\u001b[39;00m\n\u001b[0;32m   2644\u001b[0m \u001b[38;5;124;03m    \"\"\"\u001b[39;00m\n\u001b[1;32m-> 2645\u001b[0m     \u001b[43mWidget\u001b[49m\u001b[38;5;241;43m.\u001b[39;49m\u001b[38;5;21;43m__init__\u001b[39;49m\u001b[43m(\u001b[49m\u001b[38;5;28;43mself\u001b[39;49m\u001b[43m,\u001b[49m\u001b[43m \u001b[49m\u001b[43mmaster\u001b[49m\u001b[43m,\u001b[49m\u001b[43m \u001b[49m\u001b[38;5;124;43m'\u001b[39;49m\u001b[38;5;124;43mbutton\u001b[39;49m\u001b[38;5;124;43m'\u001b[39;49m\u001b[43m,\u001b[49m\u001b[43m \u001b[49m\u001b[43mcnf\u001b[49m\u001b[43m,\u001b[49m\u001b[43m \u001b[49m\u001b[43mkw\u001b[49m\u001b[43m)\u001b[49m\n",
      "File \u001b[1;32m~\\anaconda3\\lib\\tkinter\\__init__.py:2567\u001b[0m, in \u001b[0;36mBaseWidget.__init__\u001b[1;34m(self, master, widgetName, cnf, kw, extra)\u001b[0m\n\u001b[0;32m   2565\u001b[0m \u001b[38;5;28;01mfor\u001b[39;00m k, v \u001b[38;5;129;01min\u001b[39;00m classes:\n\u001b[0;32m   2566\u001b[0m     \u001b[38;5;28;01mdel\u001b[39;00m cnf[k]\n\u001b[1;32m-> 2567\u001b[0m \u001b[38;5;28;43mself\u001b[39;49m\u001b[38;5;241;43m.\u001b[39;49m\u001b[43mtk\u001b[49m\u001b[38;5;241;43m.\u001b[39;49m\u001b[43mcall\u001b[49m\u001b[43m(\u001b[49m\n\u001b[0;32m   2568\u001b[0m \u001b[43m    \u001b[49m\u001b[43m(\u001b[49m\u001b[43mwidgetName\u001b[49m\u001b[43m,\u001b[49m\u001b[43m \u001b[49m\u001b[38;5;28;43mself\u001b[39;49m\u001b[38;5;241;43m.\u001b[39;49m\u001b[43m_w\u001b[49m\u001b[43m)\u001b[49m\u001b[43m \u001b[49m\u001b[38;5;241;43m+\u001b[39;49m\u001b[43m \u001b[49m\u001b[43mextra\u001b[49m\u001b[43m \u001b[49m\u001b[38;5;241;43m+\u001b[39;49m\u001b[43m \u001b[49m\u001b[38;5;28;43mself\u001b[39;49m\u001b[38;5;241;43m.\u001b[39;49m\u001b[43m_options\u001b[49m\u001b[43m(\u001b[49m\u001b[43mcnf\u001b[49m\u001b[43m)\u001b[49m\u001b[43m)\u001b[49m\n\u001b[0;32m   2569\u001b[0m \u001b[38;5;28;01mfor\u001b[39;00m k, v \u001b[38;5;129;01min\u001b[39;00m classes:\n\u001b[0;32m   2570\u001b[0m     k\u001b[38;5;241m.\u001b[39mconfigure(\u001b[38;5;28mself\u001b[39m, v)\n",
      "\u001b[1;31mTclError\u001b[0m: can't invoke \"button\" command: application has been destroyed"
     ]
    }
   ],
   "source": [
    "g=gui()"
   ]
  },
  {
   "cell_type": "code",
   "execution_count": 1,
   "id": "5bafce88",
   "metadata": {
    "ExecuteTime": {
     "end_time": "2022-09-15T00:05:09.263205Z",
     "start_time": "2022-09-15T00:05:01.316879Z"
    }
   },
   "outputs": [],
   "source": [
    "#Import tkinter library\n",
    "from tkinter import *\n",
    "#Create an instance of Tkinter frame or window\n",
    "win= Tk()\n",
    "#Set the geometry of tkinter frame\n",
    "win.geometry(\"750x250\")\n",
    "win.mainloop()"
   ]
  }
 ],
 "metadata": {
  "kernelspec": {
   "display_name": "Python 3 (ipykernel)",
   "language": "python",
   "name": "python3"
  },
  "language_info": {
   "codemirror_mode": {
    "name": "ipython",
    "version": 3
   },
   "file_extension": ".py",
   "mimetype": "text/x-python",
   "name": "python",
   "nbconvert_exporter": "python",
   "pygments_lexer": "ipython3",
   "version": "3.8.5"
  },
  "toc": {
   "base_numbering": 1,
   "nav_menu": {},
   "number_sections": true,
   "sideBar": true,
   "skip_h1_title": false,
   "title_cell": "Table of Contents",
   "title_sidebar": "Contents",
   "toc_cell": false,
   "toc_position": {},
   "toc_section_display": true,
   "toc_window_display": false
  },
  "varInspector": {
   "cols": {
    "lenName": 16,
    "lenType": 16,
    "lenVar": 40
   },
   "kernels_config": {
    "python": {
     "delete_cmd_postfix": "",
     "delete_cmd_prefix": "del ",
     "library": "var_list.py",
     "varRefreshCmd": "print(var_dic_list())"
    },
    "r": {
     "delete_cmd_postfix": ") ",
     "delete_cmd_prefix": "rm(",
     "library": "var_list.r",
     "varRefreshCmd": "cat(var_dic_list()) "
    }
   },
   "types_to_exclude": [
    "module",
    "function",
    "builtin_function_or_method",
    "instance",
    "_Feature"
   ],
   "window_display": false
  }
 },
 "nbformat": 4,
 "nbformat_minor": 5
}
