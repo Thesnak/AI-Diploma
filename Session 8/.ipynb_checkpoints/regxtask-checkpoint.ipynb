{
 "cells": [
  {
   "cell_type": "code",
   "execution_count": 18,
   "id": "5842b6f9",
   "metadata": {
    "ExecuteTime": {
     "end_time": "2022-09-15T13:29:45.757101Z",
     "start_time": "2022-09-15T13:29:45.751242Z"
    }
   },
   "outputs": [],
   "source": [
    "f = open(\"reg.txt\",'r')\n",
    "string=f.readlines()"
   ]
  },
  {
   "cell_type": "code",
   "execution_count": 20,
   "id": "96627c0f",
   "metadata": {
    "ExecuteTime": {
     "end_time": "2022-09-15T13:30:16.263806Z",
     "start_time": "2022-09-15T13:30:16.257880Z"
    }
   },
   "outputs": [],
   "source": [
    "string = ''.join(string)"
   ]
  },
  {
   "cell_type": "markdown",
   "id": "c2c7d40d",
   "metadata": {},
   "source": []
  },
  {
   "cell_type": "code",
   "execution_count": 39,
   "id": "4319c6bb",
   "metadata": {
    "ExecuteTime": {
     "end_time": "2022-09-15T13:46:41.063694Z",
     "start_time": "2022-09-15T13:46:41.050676Z"
    }
   },
   "outputs": [],
   "source": [
    "import re\n",
    "namesPattern=re.compile(\"[A-Za-z]+,\")\n",
    "phonePattern=re.compile(\"(01)[0-9]{9}\")\n",
    "mailPattern=re.compile(\"[A-z]+@[A-Za-z]+.\\w+\")\n",
    "names=[]\n",
    "phones=[]\n",
    "mails=[]\n",
    "namesMatches = namesPattern.finditer(string)\n",
    "phoneMatches = phonePattern.finditer(string)\n",
    "mailMatches = mailPattern.finditer(string)\n",
    "\n",
    "for i in namesMatches:\n",
    "    names.append(string[i.span()[0]:i.span()[1]-1])\n",
    "for i in phoneMatches:\n",
    "    phones.append(string[i.span()[0]:i.span()[1]])\n",
    "for i in mailMatches:\n",
    "    mails.append(string[i.span()[0]:i.span()[1]])\n"
   ]
  },
  {
   "cell_type": "code",
   "execution_count": 41,
   "id": "c35c914e",
   "metadata": {
    "ExecuteTime": {
     "end_time": "2022-09-15T13:47:35.502875Z",
     "start_time": "2022-09-15T13:47:35.495479Z"
    }
   },
   "outputs": [
    {
     "data": {
      "text/plain": [
       "['Ahmed', 'Mohamed', 'Hossam', 'Medhat', 'Mostafa']"
      ]
     },
     "execution_count": 41,
     "metadata": {},
     "output_type": "execute_result"
    }
   ],
   "source": [
    "names\n"
   ]
  },
  {
   "cell_type": "code",
   "execution_count": 42,
   "id": "6a65b148",
   "metadata": {
    "ExecuteTime": {
     "end_time": "2022-09-15T13:47:37.092769Z",
     "start_time": "2022-09-15T13:47:37.085924Z"
    }
   },
   "outputs": [
    {
     "data": {
      "text/plain": [
       "['01234567890', '01234567890', '01234567890', '01234567890', '01234567890']"
      ]
     },
     "execution_count": 42,
     "metadata": {},
     "output_type": "execute_result"
    }
   ],
   "source": [
    "phones\n"
   ]
  },
  {
   "cell_type": "code",
   "execution_count": 43,
   "id": "b5e474b5",
   "metadata": {
    "ExecuteTime": {
     "end_time": "2022-09-15T13:47:38.447515Z",
     "start_time": "2022-09-15T13:47:38.438731Z"
    }
   },
   "outputs": [
    {
     "data": {
      "text/plain": [
       "['Ahmed@gmail.com',\n",
       " 'Mohamed@gmail.com',\n",
       " 'Hossam@gmail.com',\n",
       " 'Medhat@gmail.com',\n",
       " 'Mostafa@gmail.com']"
      ]
     },
     "execution_count": 43,
     "metadata": {},
     "output_type": "execute_result"
    }
   ],
   "source": [
    "mails"
   ]
  }
 ],
 "metadata": {
  "kernelspec": {
   "display_name": "Python 3 (ipykernel)",
   "language": "python",
   "name": "python3"
  },
  "language_info": {
   "codemirror_mode": {
    "name": "ipython",
    "version": 3
   },
   "file_extension": ".py",
   "mimetype": "text/x-python",
   "name": "python",
   "nbconvert_exporter": "python",
   "pygments_lexer": "ipython3",
   "version": "3.8.5"
  },
  "toc": {
   "base_numbering": 1,
   "nav_menu": {},
   "number_sections": true,
   "sideBar": true,
   "skip_h1_title": false,
   "title_cell": "Table of Contents",
   "title_sidebar": "Contents",
   "toc_cell": false,
   "toc_position": {},
   "toc_section_display": true,
   "toc_window_display": false
  },
  "varInspector": {
   "cols": {
    "lenName": 16,
    "lenType": 16,
    "lenVar": 40
   },
   "kernels_config": {
    "python": {
     "delete_cmd_postfix": "",
     "delete_cmd_prefix": "del ",
     "library": "var_list.py",
     "varRefreshCmd": "print(var_dic_list())"
    },
    "r": {
     "delete_cmd_postfix": ") ",
     "delete_cmd_prefix": "rm(",
     "library": "var_list.r",
     "varRefreshCmd": "cat(var_dic_list()) "
    }
   },
   "types_to_exclude": [
    "module",
    "function",
    "builtin_function_or_method",
    "instance",
    "_Feature"
   ],
   "window_display": false
  }
 },
 "nbformat": 4,
 "nbformat_minor": 5
}
