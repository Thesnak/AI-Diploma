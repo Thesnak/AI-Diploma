{
 "cells": [
  {
   "cell_type": "code",
   "execution_count": 3,
   "id": "f2caa4d5",
   "metadata": {
    "ExecuteTime": {
     "end_time": "2022-09-11T11:20:38.180806Z",
     "start_time": "2022-09-11T11:20:38.175820Z"
    }
   },
   "outputs": [],
   "source": [
    "class Human():\n",
    "    name=None\n",
    "    gender=None\n",
    "    age=None\n",
    "    height=None\n"
   ]
  },
  {
   "cell_type": "code",
   "execution_count": 5,
   "id": "b806995b",
   "metadata": {
    "ExecuteTime": {
     "end_time": "2022-09-11T11:22:11.587406Z",
     "start_time": "2022-09-11T11:22:11.582420Z"
    }
   },
   "outputs": [],
   "source": [
    "Anas=Human\n",
    "Anas.name=\"Anas\"\n",
    "Anas.age=22\n",
    "Anas.gender=\"Male\""
   ]
  },
  {
   "cell_type": "code",
   "execution_count": 6,
   "id": "a2469ebd",
   "metadata": {
    "ExecuteTime": {
     "end_time": "2022-09-11T11:23:00.705649Z",
     "start_time": "2022-09-11T11:23:00.701652Z"
    }
   },
   "outputs": [],
   "source": [
    "class Human():\n",
    "    name=None\n",
    "    gender=None\n",
    "    age=None\n",
    "    height=None\n",
    "    \n",
    "    def cry(self):\n",
    "        print(\"WAAAAA\")"
   ]
  },
  {
   "cell_type": "code",
   "execution_count": 7,
   "id": "f64dfdf9",
   "metadata": {
    "ExecuteTime": {
     "end_time": "2022-09-11T11:23:15.225468Z",
     "start_time": "2022-09-11T11:23:15.220408Z"
    }
   },
   "outputs": [
    {
     "name": "stdout",
     "output_type": "stream",
     "text": [
      "WAAAAA\n"
     ]
    }
   ],
   "source": [
    "a=Human()\n",
    "a.cry()"
   ]
  },
  {
   "cell_type": "code",
   "execution_count": 13,
   "id": "9d40f5bf",
   "metadata": {
    "ExecuteTime": {
     "end_time": "2022-09-11T11:24:39.196382Z",
     "start_time": "2022-09-11T11:24:39.190397Z"
    }
   },
   "outputs": [],
   "source": [
    "class Human():\n",
    "    name=None\n",
    "    gender=None\n",
    "    age=None\n",
    "    height=None\n",
    "    def __init__(self):\n",
    "        print(\"Hello Created\")\n",
    "    def cry(self):\n",
    "        print(\"WAAAAA\")"
   ]
  },
  {
   "cell_type": "code",
   "execution_count": 14,
   "id": "69037b53",
   "metadata": {
    "ExecuteTime": {
     "end_time": "2022-09-11T11:24:40.578819Z",
     "start_time": "2022-09-11T11:24:40.573832Z"
    }
   },
   "outputs": [
    {
     "name": "stdout",
     "output_type": "stream",
     "text": [
      "Hello Created\n"
     ]
    }
   ],
   "source": [
    "a=Human()"
   ]
  },
  {
   "cell_type": "code",
   "execution_count": 17,
   "id": "f3f747a5",
   "metadata": {
    "ExecuteTime": {
     "end_time": "2022-09-11T11:27:58.809818Z",
     "start_time": "2022-09-11T11:27:58.802837Z"
    }
   },
   "outputs": [],
   "source": [
    "class Human():\n",
    " \n",
    "    def __init__(self):\n",
    "        self.name=input()\n",
    "        self.age=int(input())\n",
    "        self.gender=input()\n",
    "        \n",
    "    def cry(self):\n",
    "        print(\"WAAAAA\")"
   ]
  },
  {
   "cell_type": "code",
   "execution_count": 16,
   "id": "dbe261df",
   "metadata": {
    "ExecuteTime": {
     "end_time": "2022-09-11T11:26:39.371710Z",
     "start_time": "2022-09-11T11:26:25.349597Z"
    }
   },
   "outputs": [
    {
     "name": "stdout",
     "output_type": "stream",
     "text": [
      "Mohamed\n",
      "22\n",
      "Male\n"
     ]
    }
   ],
   "source": [
    "a=Human()"
   ]
  },
  {
   "cell_type": "code",
   "execution_count": 18,
   "id": "ebcdcf91",
   "metadata": {
    "ExecuteTime": {
     "end_time": "2022-09-11T11:28:39.980708Z",
     "start_time": "2022-09-11T11:28:39.973727Z"
    }
   },
   "outputs": [],
   "source": [
    "class Human():\n",
    " \n",
    "    def __init__(self):\n",
    "        self.name=input()\n",
    "        self.age=int(input())\n",
    "        self.gender=input()\n",
    "    def salary(self):\n",
    "        self.salaryIncome=0\n",
    "    def cry(self):\n",
    "        print(\"WAAAAA\")"
   ]
  },
  {
   "cell_type": "code",
   "execution_count": null,
   "id": "b489efe6",
   "metadata": {},
   "outputs": [],
   "source": [
    "class BankAccount:\n",
    "    def __init__(self):\n",
    "        print(\"Please enter your info :\")\n",
    "        self.username="
   ]
  }
 ],
 "metadata": {
  "kernelspec": {
   "display_name": "Python 3 (ipykernel)",
   "language": "python",
   "name": "python3"
  },
  "language_info": {
   "codemirror_mode": {
    "name": "ipython",
    "version": 3
   },
   "file_extension": ".py",
   "mimetype": "text/x-python",
   "name": "python",
   "nbconvert_exporter": "python",
   "pygments_lexer": "ipython3",
   "version": "3.8.5"
  },
  "toc": {
   "base_numbering": 1,
   "nav_menu": {},
   "number_sections": true,
   "sideBar": true,
   "skip_h1_title": false,
   "title_cell": "Table of Contents",
   "title_sidebar": "Contents",
   "toc_cell": false,
   "toc_position": {},
   "toc_section_display": true,
   "toc_window_display": false
  },
  "varInspector": {
   "cols": {
    "lenName": 16,
    "lenType": 16,
    "lenVar": 40
   },
   "kernels_config": {
    "python": {
     "delete_cmd_postfix": "",
     "delete_cmd_prefix": "del ",
     "library": "var_list.py",
     "varRefreshCmd": "print(var_dic_list())"
    },
    "r": {
     "delete_cmd_postfix": ") ",
     "delete_cmd_prefix": "rm(",
     "library": "var_list.r",
     "varRefreshCmd": "cat(var_dic_list()) "
    }
   },
   "types_to_exclude": [
    "module",
    "function",
    "builtin_function_or_method",
    "instance",
    "_Feature"
   ],
   "window_display": false
  }
 },
 "nbformat": 4,
 "nbformat_minor": 5
}
