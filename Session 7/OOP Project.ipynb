{
 "cells": [
  {
   "cell_type": "code",
   "execution_count": 26,
   "id": "c1bd25b0",
   "metadata": {
    "ExecuteTime": {
     "end_time": "2022-09-15T00:50:48.166382Z",
     "start_time": "2022-09-15T00:50:48.153414Z"
    }
   },
   "outputs": [],
   "source": [
    "class Molcule:\n",
    "    def __init__(self,fasta):\n",
    "        records=[record for record in fasta.strip().split('>') if record]\n",
    "        sequences=[]\n",
    "        names=[]\n",
    "        for record in records:\n",
    "            line = record.splitlines()\n",
    "            names.append(line[0].strip())\n",
    "            sequences.append(''.join(line[1:]))\n",
    "        self.__data =dict(zip (names,sequences))\n",
    "    def _getSeq(self):\n",
    "        return self.__data\n",
    "    "
   ]
  },
  {
   "cell_type": "code",
   "execution_count": 27,
   "id": "93e876c0",
   "metadata": {
    "ExecuteTime": {
     "end_time": "2022-09-15T00:50:50.737249Z",
     "start_time": "2022-09-15T00:50:50.710320Z"
    }
   },
   "outputs": [],
   "source": [
    "class DNA(Molcule):\n",
    "    def __init__(self,fasta):\n",
    "        super().__init__(fasta)\n",
    "    def getSeq(self):\n",
    "        self.Dna= super()._getSeq()\n",
    "        return self.Dna\n",
    "        # function to find complement of DNA\n",
    "    def complement(self):\n",
    "        Dna=self.getSeq()\n",
    "        comp={}\n",
    "        for k , v in Dna.items():\n",
    "            DNA = v.upper()\n",
    "            baseComplement = {'A': 'T', 'T': 'A', 'G': 'C', 'C': 'G', 'N': 'N'}\n",
    "            letters = list(DNA)\n",
    "            letters = [baseComplement[base] for base in letters]\n",
    "            seq= ''.join(letters)\n",
    "            comp[k]=seq\n",
    "        return comp\n",
    "\n",
    "\n",
    "        # function to find reverse of DNA\n",
    "    def __reverse(self,DNA):\n",
    "            reverse={}\n",
    "            for k,v in DNA.items():\n",
    "                seq=v[::-1]\n",
    "                reverse[k]=seq\n",
    "            return reverse\n",
    "        # funciton to find reverse complement of DNA\n",
    "    def reverse_complement(self):\n",
    "            \"\"\"This Function takes a seq as a string and returns its reverse complement.\"\"\"\n",
    "            Dna=self.getSeq()\n",
    "            seq = self.complement()\n",
    "            seq = self.__reverse(seq)\n",
    "            return seq\n",
    "    # function to calculate gc precentage in DNA\n",
    "    def gc(self):\n",
    "        \"\"\"This Function takes a seq as a string and returns the gc percentage of it.\"\"\"\n",
    "        Dna=self.getSeq()\n",
    "        gc={}\n",
    "        for k,v in Dna.items():\n",
    "            DNA = v.upper()\n",
    "            nBases = DNA.count('N')\n",
    "            gcBases = DNA.count('G') + DNA.count('C')\n",
    "            precantage = (gcBases / (len(DNA) - nBases)) * 100\n",
    "            gc[k]=[DNA,precantage]\n",
    "        return gc\n"
   ]
  },
  {
   "cell_type": "code",
   "execution_count": 69,
   "id": "dfbded49",
   "metadata": {
    "ExecuteTime": {
     "end_time": "2022-09-15T01:14:06.964242Z",
     "start_time": "2022-09-15T01:14:06.950280Z"
    }
   },
   "outputs": [],
   "source": [
    "from Bio.SeqUtils.ProtParam import ProteinAnalysis\n",
    "class Protein(Molcule):\n",
    "    def __init__(self,fasta):\n",
    "        super().__init__(fasta)\n",
    "    def getProtein(self):\n",
    "        self.__protein= super()._getSeq()\n",
    "        return self.__protein\n",
    "    def amino_acids_percent(self):\n",
    "        aminoAcidsPrecent={}\n",
    "        proteins=self.getProtein()\n",
    "        for k, v in proteins.items():\n",
    "            a= ProteinAnalysis(v).get_amino_acids_percent()\n",
    "            aminoAcidsPrecent[k]=[v,a]\n",
    "        return aminoAcidsPrecent\n",
    "    def molecular_weight(self):\n",
    "        weight={}\n",
    "        proteins=self.getProtein()\n",
    "        for k, v in proteins.items():\n",
    "            a= ProteinAnalysis(v).molecular_weight()\n",
    "            weight[k]=[v,a]\n",
    "        return weight"
   ]
  },
  {
   "cell_type": "code",
   "execution_count": 117,
   "id": "4d1bbfba",
   "metadata": {
    "ExecuteTime": {
     "end_time": "2022-09-14T23:41:46.901228Z",
     "start_time": "2022-09-14T23:41:46.894247Z"
    }
   },
   "outputs": [],
   "source": [
    "fasta ='''>id1 description of id1\n",
    "ATGTGTGTCCGTTGTGTAAAGTGTGTC'''\n",
    "dna= DNA(fasta)"
   ]
  },
  {
   "cell_type": "code",
   "execution_count": 118,
   "id": "add45fc6",
   "metadata": {
    "ExecuteTime": {
     "end_time": "2022-09-14T23:41:48.356257Z",
     "start_time": "2022-09-14T23:41:48.344289Z"
    }
   },
   "outputs": [
    {
     "data": {
      "text/plain": [
       "{'id1 description of id1': 'TACACACAGGCAACACATTTCACACAG'}"
      ]
     },
     "execution_count": 118,
     "metadata": {},
     "output_type": "execute_result"
    }
   ],
   "source": [
    "dna.getSeq()\n",
    "dna.complement()"
   ]
  },
  {
   "cell_type": "code",
   "execution_count": 119,
   "id": "ea024784",
   "metadata": {
    "ExecuteTime": {
     "end_time": "2022-09-14T23:41:49.789449Z",
     "start_time": "2022-09-14T23:41:49.780473Z"
    }
   },
   "outputs": [
    {
     "data": {
      "text/plain": [
       "{'id1 description of id1': 'GACACACTTTACACAACGGACACACAT'}"
      ]
     },
     "execution_count": 119,
     "metadata": {},
     "output_type": "execute_result"
    }
   ],
   "source": [
    "dna.reverse_complement()"
   ]
  },
  {
   "cell_type": "code",
   "execution_count": 120,
   "id": "0c6cf94e",
   "metadata": {
    "ExecuteTime": {
     "end_time": "2022-09-14T23:41:51.245514Z",
     "start_time": "2022-09-14T23:41:51.236535Z"
    }
   },
   "outputs": [
    {
     "data": {
      "text/plain": [
       "{'id1 description of id1': ['ATGTGTGTCCGTTGTGTAAAGTGTGTC', 44.44444444444444]}"
      ]
     },
     "execution_count": 120,
     "metadata": {},
     "output_type": "execute_result"
    }
   ],
   "source": [
    "dna.gc()"
   ]
  },
  {
   "cell_type": "code",
   "execution_count": 74,
   "id": "c0df70c9",
   "metadata": {
    "ExecuteTime": {
     "end_time": "2022-09-15T01:15:17.033175Z",
     "start_time": "2022-09-15T01:15:17.028188Z"
    }
   },
   "outputs": [],
   "source": [
    "protein='''>id 1 protein name\n",
    "MAEGEITTFTALTEKFNLPPGNYKKPKLLYCSNGGHFLRILPDGTVDGTRDRSDQHIQLQLSAESVGEVYIKSTETGQYLAMDTSGLLYGSQTPSEECLFLERLEENHYNTYTSKKHAEKNWFVGLKKNGSCKRGPRTHYGQKAILFLPLPV\n",
    "'''"
   ]
  },
  {
   "cell_type": "code",
   "execution_count": 75,
   "id": "7c2db963",
   "metadata": {
    "ExecuteTime": {
     "end_time": "2022-09-15T01:15:20.164354Z",
     "start_time": "2022-09-15T01:15:20.155838Z"
    }
   },
   "outputs": [
    {
     "data": {
      "text/plain": [
       "{'id 1 protein name': 'MAEGEITTFTALTEKFNLPPGNYKKPKLLYCSNGGHFLRILPDGTVDGTRDRSDQHIQLQLSAESVGEVYIKSTETGQYLAMDTSGLLYGSQTPSEECLFLERLEENHYNTYTSKKHAEKNWFVGLKKNGSCKRGPRTHYGQKAILFLPLPV'}"
      ]
     },
     "execution_count": 75,
     "metadata": {},
     "output_type": "execute_result"
    }
   ],
   "source": [
    "protein=Protein(protein)\n",
    "protein.getProtein()"
   ]
  },
  {
   "cell_type": "code",
   "execution_count": 76,
   "id": "c3b9dd90",
   "metadata": {
    "ExecuteTime": {
     "end_time": "2022-09-15T01:15:21.835909Z",
     "start_time": "2022-09-15T01:15:21.827934Z"
    }
   },
   "outputs": [
    {
     "data": {
      "text/plain": [
       "{'id 1 protein name': ['MAEGEITTFTALTEKFNLPPGNYKKPKLLYCSNGGHFLRILPDGTVDGTRDRSDQHIQLQLSAESVGEVYIKSTETGQYLAMDTSGLLYGSQTPSEECLFLERLEENHYNTYTSKKHAEKNWFVGLKKNGSCKRGPRTHYGQKAILFLPLPV',\n",
       "  {'A': 0.039473684210526314,\n",
       "   'C': 0.019736842105263157,\n",
       "   'D': 0.03289473684210526,\n",
       "   'E': 0.07894736842105263,\n",
       "   'F': 0.039473684210526314,\n",
       "   'G': 0.09210526315789473,\n",
       "   'H': 0.03289473684210526,\n",
       "   'I': 0.03289473684210526,\n",
       "   'K': 0.07894736842105263,\n",
       "   'L': 0.11842105263157894,\n",
       "   'M': 0.013157894736842105,\n",
       "   'N': 0.046052631578947366,\n",
       "   'P': 0.05263157894736842,\n",
       "   'Q': 0.039473684210526314,\n",
       "   'R': 0.039473684210526314,\n",
       "   'S': 0.06578947368421052,\n",
       "   'T': 0.08552631578947369,\n",
       "   'V': 0.03289473684210526,\n",
       "   'W': 0.006578947368421052,\n",
       "   'Y': 0.05263157894736842}]}"
      ]
     },
     "execution_count": 76,
     "metadata": {},
     "output_type": "execute_result"
    }
   ],
   "source": [
    "protein.amino_acids_percent()"
   ]
  },
  {
   "cell_type": "code",
   "execution_count": 77,
   "id": "e5369e94",
   "metadata": {
    "ExecuteTime": {
     "end_time": "2022-09-15T01:15:23.713130Z",
     "start_time": "2022-09-15T01:15:23.702182Z"
    }
   },
   "outputs": [
    {
     "data": {
      "text/plain": [
       "{'id 1 protein name': ['MAEGEITTFTALTEKFNLPPGNYKKPKLLYCSNGGHFLRILPDGTVDGTRDRSDQHIQLQLSAESVGEVYIKSTETGQYLAMDTSGLLYGSQTPSEECLFLERLEENHYNTYTSKKHAEKNWFVGLKKNGSCKRGPRTHYGQKAILFLPLPV',\n",
       "  17103.1617]}"
      ]
     },
     "execution_count": 77,
     "metadata": {},
     "output_type": "execute_result"
    }
   ],
   "source": [
    "protein.molecular_weight()"
   ]
  }
 ],
 "metadata": {
  "kernelspec": {
   "display_name": "Python 3 (ipykernel)",
   "language": "python",
   "name": "python3"
  },
  "language_info": {
   "codemirror_mode": {
    "name": "ipython",
    "version": 3
   },
   "file_extension": ".py",
   "mimetype": "text/x-python",
   "name": "python",
   "nbconvert_exporter": "python",
   "pygments_lexer": "ipython3",
   "version": "3.8.5"
  },
  "toc": {
   "base_numbering": 1,
   "nav_menu": {},
   "number_sections": true,
   "sideBar": true,
   "skip_h1_title": false,
   "title_cell": "Table of Contents",
   "title_sidebar": "Contents",
   "toc_cell": false,
   "toc_position": {},
   "toc_section_display": true,
   "toc_window_display": false
  },
  "varInspector": {
   "cols": {
    "lenName": 16,
    "lenType": 16,
    "lenVar": 40
   },
   "kernels_config": {
    "python": {
     "delete_cmd_postfix": "",
     "delete_cmd_prefix": "del ",
     "library": "var_list.py",
     "varRefreshCmd": "print(var_dic_list())"
    },
    "r": {
     "delete_cmd_postfix": ") ",
     "delete_cmd_prefix": "rm(",
     "library": "var_list.r",
     "varRefreshCmd": "cat(var_dic_list()) "
    }
   },
   "types_to_exclude": [
    "module",
    "function",
    "builtin_function_or_method",
    "instance",
    "_Feature"
   ],
   "window_display": false
  }
 },
 "nbformat": 4,
 "nbformat_minor": 5
}
