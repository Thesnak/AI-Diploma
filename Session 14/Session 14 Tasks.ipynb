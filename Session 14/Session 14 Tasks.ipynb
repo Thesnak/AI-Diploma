{
 "cells": [
  {
   "cell_type": "markdown",
   "id": "8b8b6239",
   "metadata": {},
   "source": [
    "# How to Load Power Bi in jupyter ?"
   ]
  },
  {
   "cell_type": "code",
   "execution_count": 3,
   "id": "23bdb590",
   "metadata": {
    "ExecuteTime": {
     "end_time": "2022-10-08T00:07:34.977538Z",
     "start_time": "2022-10-08T00:07:34.972551Z"
    }
   },
   "outputs": [],
   "source": [
    "# pip install powerbiclient\n",
    "from powerbiclient import Report, models\n"
   ]
  },
  {
   "cell_type": "code",
   "execution_count": 4,
   "id": "fb8d704a",
   "metadata": {
    "ExecuteTime": {
     "end_time": "2022-10-08T00:12:50.616188Z",
     "start_time": "2022-10-08T00:07:36.376429Z"
    },
    "collapsed": true
   },
   "outputs": [
    {
     "name": "stdout",
     "output_type": "stream",
     "text": [
      "Performing device flow authentication. Please follow the instructions below.\n",
      "To sign in, use a web browser to open the page https://microsoft.com/devicelogin and enter the code DXY8ZESPW to authenticate.\n"
     ]
    },
    {
     "ename": "KeyboardInterrupt",
     "evalue": "",
     "output_type": "error",
     "traceback": [
      "\u001b[1;31m---------------------------------------------------------------------------\u001b[0m",
      "\u001b[1;31mKeyboardInterrupt\u001b[0m                         Traceback (most recent call last)",
      "Input \u001b[1;32mIn [4]\u001b[0m, in \u001b[0;36m<cell line: 5>\u001b[1;34m()\u001b[0m\n\u001b[0;32m      2\u001b[0m \u001b[38;5;28;01mfrom\u001b[39;00m \u001b[38;5;21;01mpowerbiclient\u001b[39;00m\u001b[38;5;21;01m.\u001b[39;00m\u001b[38;5;21;01mauthentication\u001b[39;00m \u001b[38;5;28;01mimport\u001b[39;00m DeviceCodeLoginAuthentication\n\u001b[0;32m      4\u001b[0m \u001b[38;5;66;03m# Initiate device authentication\u001b[39;00m\n\u001b[1;32m----> 5\u001b[0m device_auth \u001b[38;5;241m=\u001b[39m \u001b[43mDeviceCodeLoginAuthentication\u001b[49m\u001b[43m(\u001b[49m\u001b[43m)\u001b[49m\n",
      "File \u001b[1;32m~\\anaconda3\\lib\\site-packages\\powerbiclient\\authentication.py:71\u001b[0m, in \u001b[0;36mDeviceCodeLoginAuthentication.__init__\u001b[1;34m(self)\u001b[0m\n\u001b[0;32m     65\u001b[0m \u001b[38;5;28;01mdef\u001b[39;00m \u001b[38;5;21m__init__\u001b[39m(\u001b[38;5;28mself\u001b[39m):\n\u001b[0;32m     66\u001b[0m     \u001b[38;5;124;03m\"\"\" Initiate a Device Flow Auth instance\u001b[39;00m\n\u001b[0;32m     67\u001b[0m \n\u001b[0;32m     68\u001b[0m \u001b[38;5;124;03m    Returns:\u001b[39;00m\n\u001b[0;32m     69\u001b[0m \u001b[38;5;124;03m        object: Device Flow object\u001b[39;00m\n\u001b[0;32m     70\u001b[0m \u001b[38;5;124;03m    \"\"\"\u001b[39;00m\n\u001b[1;32m---> 71\u001b[0m     auth_result \u001b[38;5;241m=\u001b[39m \u001b[38;5;28;43mself\u001b[39;49m\u001b[38;5;241;43m.\u001b[39;49m\u001b[43m_acquire_token_device_code\u001b[49m\u001b[43m(\u001b[49m\u001b[43m)\u001b[49m\n\u001b[0;32m     72\u001b[0m     \u001b[38;5;28msuper\u001b[39m()\u001b[38;5;241m.\u001b[39m\u001b[38;5;21m__init__\u001b[39m(auth_result)\n",
      "File \u001b[1;32m~\\anaconda3\\lib\\site-packages\\powerbiclient\\authentication.py:90\u001b[0m, in \u001b[0;36mDeviceCodeLoginAuthentication._acquire_token_device_code\u001b[1;34m(self)\u001b[0m\n\u001b[0;32m     87\u001b[0m \u001b[38;5;28mprint\u001b[39m(\u001b[38;5;124m\"\u001b[39m\u001b[38;5;124mPerforming device flow authentication. Please follow the instructions below.\u001b[39m\u001b[38;5;130;01m\\n\u001b[39;00m\u001b[38;5;132;01m{0}\u001b[39;00m\u001b[38;5;124m\"\u001b[39m\u001b[38;5;241m.\u001b[39mformat(flow[\u001b[38;5;124m\"\u001b[39m\u001b[38;5;124mmessage\u001b[39m\u001b[38;5;124m\"\u001b[39m]))\n\u001b[0;32m     89\u001b[0m \u001b[38;5;66;03m# Ideally you should wait here, in order to save some unnecessary polling\u001b[39;00m\n\u001b[1;32m---> 90\u001b[0m result \u001b[38;5;241m=\u001b[39m \u001b[43mapp\u001b[49m\u001b[38;5;241;43m.\u001b[39;49m\u001b[43macquire_token_by_device_flow\u001b[49m\u001b[43m(\u001b[49m\u001b[43mflow\u001b[49m\u001b[43m)\u001b[49m\n\u001b[0;32m     91\u001b[0m \u001b[38;5;66;03m# By default it will block\u001b[39;00m\n\u001b[0;32m     92\u001b[0m \u001b[38;5;66;03m# You can follow this instruction to shorten the block time\u001b[39;00m\n\u001b[0;32m     93\u001b[0m \u001b[38;5;66;03m#    https://msal-python.readthedocs.io/en/latest/#msal.PublicClientApplication.acquire_token_by_device_flow\u001b[39;00m\n\u001b[0;32m     94\u001b[0m \u001b[38;5;66;03m# or you may even turn off the blocking behavior,\u001b[39;00m\n\u001b[0;32m     95\u001b[0m \u001b[38;5;66;03m# and then keep calling acquire_token_by_device_flow(flow) in your own customized loop.\u001b[39;00m\n\u001b[0;32m     97\u001b[0m \u001b[38;5;28;01mif\u001b[39;00m \u001b[38;5;124m\"\u001b[39m\u001b[38;5;124maccess_token\u001b[39m\u001b[38;5;124m\"\u001b[39m \u001b[38;5;129;01min\u001b[39;00m result:\n",
      "File \u001b[1;32m~\\anaconda3\\lib\\site-packages\\msal\\application.py:1978\u001b[0m, in \u001b[0;36mPublicClientApplication.acquire_token_by_device_flow\u001b[1;34m(self, flow, claims_challenge, **kwargs)\u001b[0m\n\u001b[0;32m   1957\u001b[0m \u001b[38;5;124;03m\"\"\"Obtain token by a device flow object, with customizable polling effect.\u001b[39;00m\n\u001b[0;32m   1958\u001b[0m \n\u001b[0;32m   1959\u001b[0m \u001b[38;5;124;03m:param dict flow:\u001b[39;00m\n\u001b[1;32m   (...)\u001b[0m\n\u001b[0;32m   1973\u001b[0m \u001b[38;5;124;03m    - an error response would contain \"error\" and usually \"error_description\".\u001b[39;00m\n\u001b[0;32m   1974\u001b[0m \u001b[38;5;124;03m\"\"\"\u001b[39;00m\n\u001b[0;32m   1975\u001b[0m telemetry_context \u001b[38;5;241m=\u001b[39m \u001b[38;5;28mself\u001b[39m\u001b[38;5;241m.\u001b[39m_build_telemetry_context(\n\u001b[0;32m   1976\u001b[0m     \u001b[38;5;28mself\u001b[39m\u001b[38;5;241m.\u001b[39mACQUIRE_TOKEN_BY_DEVICE_FLOW_ID,\n\u001b[0;32m   1977\u001b[0m     correlation_id\u001b[38;5;241m=\u001b[39mflow\u001b[38;5;241m.\u001b[39mget(\u001b[38;5;28mself\u001b[39m\u001b[38;5;241m.\u001b[39mDEVICE_FLOW_CORRELATION_ID))\n\u001b[1;32m-> 1978\u001b[0m response \u001b[38;5;241m=\u001b[39m _clean_up(\u001b[38;5;28;43mself\u001b[39;49m\u001b[38;5;241;43m.\u001b[39;49m\u001b[43mclient\u001b[49m\u001b[38;5;241;43m.\u001b[39;49m\u001b[43mobtain_token_by_device_flow\u001b[49m\u001b[43m(\u001b[49m\n\u001b[0;32m   1979\u001b[0m \u001b[43m    \u001b[49m\u001b[43mflow\u001b[49m\u001b[43m,\u001b[49m\n\u001b[0;32m   1980\u001b[0m \u001b[43m    \u001b[49m\u001b[43mdata\u001b[49m\u001b[38;5;241;43m=\u001b[39;49m\u001b[38;5;28;43mdict\u001b[39;49m\u001b[43m(\u001b[49m\n\u001b[0;32m   1981\u001b[0m \u001b[43m        \u001b[49m\u001b[43mkwargs\u001b[49m\u001b[38;5;241;43m.\u001b[39;49m\u001b[43mpop\u001b[49m\u001b[43m(\u001b[49m\u001b[38;5;124;43m\"\u001b[39;49m\u001b[38;5;124;43mdata\u001b[39;49m\u001b[38;5;124;43m\"\u001b[39;49m\u001b[43m,\u001b[49m\u001b[43m \u001b[49m\u001b[43m{\u001b[49m\u001b[43m}\u001b[49m\u001b[43m)\u001b[49m\u001b[43m,\u001b[49m\n\u001b[0;32m   1982\u001b[0m \u001b[43m        \u001b[49m\u001b[43mcode\u001b[49m\u001b[38;5;241;43m=\u001b[39;49m\u001b[43mflow\u001b[49m\u001b[43m[\u001b[49m\u001b[38;5;124;43m\"\u001b[39;49m\u001b[38;5;124;43mdevice_code\u001b[39;49m\u001b[38;5;124;43m\"\u001b[39;49m\u001b[43m]\u001b[49m\u001b[43m,\u001b[49m\u001b[43m  \u001b[49m\u001b[38;5;66;43;03m# 2018-10-4 Hack:\u001b[39;49;00m\n\u001b[0;32m   1983\u001b[0m \u001b[43m            \u001b[49m\u001b[38;5;66;43;03m# during transition period,\u001b[39;49;00m\n\u001b[0;32m   1984\u001b[0m \u001b[43m            \u001b[49m\u001b[38;5;66;43;03m# service seemingly need both device_code and code parameter.\u001b[39;49;00m\n\u001b[0;32m   1985\u001b[0m \u001b[43m        \u001b[49m\u001b[43mclaims\u001b[49m\u001b[38;5;241;43m=\u001b[39;49m\u001b[43m_merge_claims_challenge_and_capabilities\u001b[49m\u001b[43m(\u001b[49m\n\u001b[0;32m   1986\u001b[0m \u001b[43m            \u001b[49m\u001b[38;5;28;43mself\u001b[39;49m\u001b[38;5;241;43m.\u001b[39;49m\u001b[43m_client_capabilities\u001b[49m\u001b[43m,\u001b[49m\u001b[43m \u001b[49m\u001b[43mclaims_challenge\u001b[49m\u001b[43m)\u001b[49m\u001b[43m,\u001b[49m\n\u001b[0;32m   1987\u001b[0m \u001b[43m        \u001b[49m\u001b[43m)\u001b[49m\u001b[43m,\u001b[49m\n\u001b[0;32m   1988\u001b[0m \u001b[43m    \u001b[49m\u001b[43mheaders\u001b[49m\u001b[38;5;241;43m=\u001b[39;49m\u001b[43mtelemetry_context\u001b[49m\u001b[38;5;241;43m.\u001b[39;49m\u001b[43mgenerate_headers\u001b[49m\u001b[43m(\u001b[49m\u001b[43m)\u001b[49m\u001b[43m,\u001b[49m\n\u001b[0;32m   1989\u001b[0m \u001b[43m    \u001b[49m\u001b[38;5;241;43m*\u001b[39;49m\u001b[38;5;241;43m*\u001b[39;49m\u001b[43mkwargs\u001b[49m\u001b[43m)\u001b[49m)\n\u001b[0;32m   1990\u001b[0m telemetry_context\u001b[38;5;241m.\u001b[39mupdate_telemetry(response)\n\u001b[0;32m   1991\u001b[0m \u001b[38;5;28;01mreturn\u001b[39;00m response\n",
      "File \u001b[1;32m~\\anaconda3\\lib\\site-packages\\msal\\oauth2cli\\oauth2.py:389\u001b[0m, in \u001b[0;36mClient.obtain_token_by_device_flow\u001b[1;34m(self, flow, exit_condition, **kwargs)\u001b[0m\n\u001b[0;32m    387\u001b[0m \u001b[38;5;28;01mif\u001b[39;00m exit_condition(flow):\n\u001b[0;32m    388\u001b[0m     \u001b[38;5;28;01mreturn\u001b[39;00m result\n\u001b[1;32m--> 389\u001b[0m \u001b[43mtime\u001b[49m\u001b[38;5;241;43m.\u001b[39;49m\u001b[43msleep\u001b[49m\u001b[43m(\u001b[49m\u001b[38;5;241;43m1\u001b[39;49m\u001b[43m)\u001b[49m\n",
      "\u001b[1;31mKeyboardInterrupt\u001b[0m: "
     ]
    }
   ],
   "source": [
    "# Import the DeviceCodeLoginAuthentication class to authenticate against Power BI\n",
    "from powerbiclient.authentication import DeviceCodeLoginAuthentication\n",
    "\n",
    "# Initiate device authentication\n",
    "device_auth = DeviceCodeLoginAuthentication()"
   ]
  },
  {
   "cell_type": "markdown",
   "id": "16c1a896",
   "metadata": {},
   "source": [
    "# Data Types and store size "
   ]
  },
  {
   "cell_type": "markdown",
   "id": "fcbfcdf8",
   "metadata": {},
   "source": [
    "<table class=\"docutils align-default\" id=\"id10\">\n",
    "<caption><span class=\"caption-text\"><strong>Data types supported for array elements and tables columns in\n",
    "         PyTables.</strong></span><a class=\"headerlink\" href=\"#id10\" title=\"Permalink to this table\">¶</a></caption>\n",
    "<colgroup>\n",
    "<col style=\"width: 18%\">\n",
    "<col style=\"width: 26%\">\n",
    "<col style=\"width: 22%\">\n",
    "<col style=\"width: 15%\">\n",
    "<col style=\"width: 18%\">\n",
    "</colgroup>\n",
    "<thead>\n",
    "<tr class=\"row-odd\"><th class=\"head\"><p>Type Code</p></th>\n",
    "<th class=\"head\"><p>Description</p></th>\n",
    "<th class=\"head\"><p>C Type</p></th>\n",
    "<th class=\"head\"><p>Size (in bytes)</p></th>\n",
    "<th class=\"head\"><p>Python Counterpart</p></th>\n",
    "</tr>\n",
    "</thead>\n",
    "<tbody>\n",
    "<tr class=\"row-even\"><td><p>bool</p></td>\n",
    "<td><p>boolean</p></td>\n",
    "<td><p>unsigned char</p></td>\n",
    "<td><p>1</p></td>\n",
    "<td><p>bool</p></td>\n",
    "</tr>\n",
    "<tr class=\"row-odd\"><td><p>int8</p></td>\n",
    "<td><p>8-bit integer</p></td>\n",
    "<td><p>signed char</p></td>\n",
    "<td><p>1</p></td>\n",
    "<td><p>int</p></td>\n",
    "</tr>\n",
    "<tr class=\"row-even\"><td><p>uint8</p></td>\n",
    "<td><p>8-bit unsigned integer</p></td>\n",
    "<td><p>unsigned char</p></td>\n",
    "<td><p>1</p></td>\n",
    "<td><p>int</p></td>\n",
    "</tr>\n",
    "<tr class=\"row-odd\"><td><p>int16</p></td>\n",
    "<td><p>16-bit integer</p></td>\n",
    "<td><p>short</p></td>\n",
    "<td><p>2</p></td>\n",
    "<td><p>int</p></td>\n",
    "</tr>\n",
    "<tr class=\"row-even\"><td><p>uint16</p></td>\n",
    "<td><p>16-bit unsigned integer</p></td>\n",
    "<td><p>unsigned short</p></td>\n",
    "<td><p>2</p></td>\n",
    "<td><p>int</p></td>\n",
    "</tr>\n",
    "<tr class=\"row-odd\"><td><p>int32</p></td>\n",
    "<td><p>integer</p></td>\n",
    "<td><p>int</p></td>\n",
    "<td><p>4</p></td>\n",
    "<td><p>int</p></td>\n",
    "</tr>\n",
    "<tr class=\"row-even\"><td><p>uint32</p></td>\n",
    "<td><p>unsigned integer</p></td>\n",
    "<td><p>unsigned int</p></td>\n",
    "<td><p>4</p></td>\n",
    "<td><p>long</p></td>\n",
    "</tr>\n",
    "<tr class=\"row-odd\"><td><p>int64</p></td>\n",
    "<td><p>64-bit integer</p></td>\n",
    "<td><p>long long</p></td>\n",
    "<td><p>8</p></td>\n",
    "<td><p>long</p></td>\n",
    "</tr>\n",
    "<tr class=\"row-even\"><td><p>uint64</p></td>\n",
    "<td><p>unsigned 64-bit integer</p></td>\n",
    "<td><p>unsigned long long</p></td>\n",
    "<td><p>8</p></td>\n",
    "<td><p>long</p></td>\n",
    "</tr>\n",
    "<tr class=\"row-odd\"><td><p>float16 <a class=\"footnote-reference brackets\" href=\"#id8\" id=\"id1\">1</a></p></td>\n",
    "<td><p>half-precision float</p></td>\n",
    "<td><ul class=\"simple\">\n",
    "<li></li>\n",
    "</ul>\n",
    "</td>\n",
    "<td><p>2</p></td>\n",
    "<td><ul class=\"simple\">\n",
    "<li></li>\n",
    "</ul>\n",
    "</td>\n",
    "</tr>\n",
    "<tr class=\"row-even\"><td><p>float32</p></td>\n",
    "<td><p>single-precision float</p></td>\n",
    "<td><p>float</p></td>\n",
    "<td><p>4</p></td>\n",
    "<td><p>float</p></td>\n",
    "</tr>\n",
    "<tr class=\"row-odd\"><td><p>float64</p></td>\n",
    "<td><p>double-precision float</p></td>\n",
    "<td><p>double</p></td>\n",
    "<td><p>8</p></td>\n",
    "<td><p>float</p></td>\n",
    "</tr>\n",
    "<tr class=\"row-even\"><td><p>float96 <a class=\"footnote-reference brackets\" href=\"#id8\" id=\"id2\">1</a> <a class=\"footnote-reference brackets\" href=\"#id9\" id=\"id3\">2</a></p></td>\n",
    "<td><p>extended precision float</p></td>\n",
    "<td><ul class=\"simple\">\n",
    "<li></li>\n",
    "</ul>\n",
    "</td>\n",
    "<td><p>12</p></td>\n",
    "<td><ul class=\"simple\">\n",
    "<li></li>\n",
    "</ul>\n",
    "</td>\n",
    "</tr>\n",
    "<tr class=\"row-odd\"><td><p>float128 <a class=\"footnote-reference brackets\" href=\"#id8\" id=\"id4\">1</a> <a class=\"footnote-reference brackets\" href=\"#id9\" id=\"id5\">2</a></p></td>\n",
    "<td><p>extended precision float</p></td>\n",
    "<td><ul class=\"simple\">\n",
    "<li></li>\n",
    "</ul>\n",
    "</td>\n",
    "<td><p>16</p></td>\n",
    "<td><ul class=\"simple\">\n",
    "<li></li>\n",
    "</ul>\n",
    "</td>\n",
    "</tr>\n",
    "<tr class=\"row-even\"><td><p>complex64</p></td>\n",
    "<td><p>single-precision complex</p></td>\n",
    "<td><p>struct {float r, i;}</p></td>\n",
    "<td><p>8</p></td>\n",
    "<td><p>complex</p></td>\n",
    "</tr>\n",
    "<tr class=\"row-odd\"><td><p>complex128</p></td>\n",
    "<td><p>double-precision complex</p></td>\n",
    "<td><p>struct {double r, i;}</p></td>\n",
    "<td><p>16</p></td>\n",
    "<td><p>complex</p></td>\n",
    "</tr>\n",
    "<tr class=\"row-even\"><td><p>complex192 <a class=\"footnote-reference brackets\" href=\"#id8\" id=\"id6\">1</a></p></td>\n",
    "<td><p>extended precision complex</p></td>\n",
    "<td><ul class=\"simple\">\n",
    "<li></li>\n",
    "</ul>\n",
    "</td>\n",
    "<td><p>24</p></td>\n",
    "<td><ul class=\"simple\">\n",
    "<li></li>\n",
    "</ul>\n",
    "</td>\n",
    "</tr>\n",
    "<tr class=\"row-odd\"><td><p>complex256 <a class=\"footnote-reference brackets\" href=\"#id8\" id=\"id7\">1</a></p></td>\n",
    "<td><p>extended precision complex</p></td>\n",
    "<td><ul class=\"simple\">\n",
    "<li></li>\n",
    "</ul>\n",
    "</td>\n",
    "<td><p>32</p></td>\n",
    "<td><ul class=\"simple\">\n",
    "<li></li>\n",
    "</ul>\n",
    "</td>\n",
    "</tr>\n",
    "<tr class=\"row-even\"><td><p>string</p></td>\n",
    "<td><p>arbitrary length string</p></td>\n",
    "<td><p>char[]</p></td>\n",
    "<td><ul class=\"simple\">\n",
    "<li></li>\n",
    "</ul>\n",
    "</td>\n",
    "<td><p>str</p></td>\n",
    "</tr>\n",
    "<tr class=\"row-odd\"><td><p>time32</p></td>\n",
    "<td><p>integer time</p></td>\n",
    "<td><p>POSIX’s time_t</p></td>\n",
    "<td><p>4</p></td>\n",
    "<td><p>int</p></td>\n",
    "</tr>\n",
    "<tr class=\"row-even\"><td><p>time64</p></td>\n",
    "<td><p>floating point time</p></td>\n",
    "<td><p>POSIX’s struct timeval</p></td>\n",
    "<td><p>8</p></td>\n",
    "<td><p>float</p></td>\n",
    "</tr>\n",
    "<tr class=\"row-odd\"><td><p>enum</p></td>\n",
    "<td><p>enumerated value</p></td>\n",
    "<td><p>enum</p></td>\n",
    "<td><ul class=\"simple\">\n",
    "<li></li>\n",
    "</ul>\n",
    "</td>\n",
    "<td><ul class=\"simple\">\n",
    "<li></li>\n",
    "</ul>\n",
    "</td>\n",
    "</tr>\n",
    "</tbody>\n",
    "</table>\n"
   ]
  },
  {
   "cell_type": "markdown",
   "id": "2b4b2f06",
   "metadata": {},
   "source": [
    "# How to read random sample from dataframe"
   ]
  },
  {
   "cell_type": "code",
   "execution_count": 9,
   "id": "7cf2f445",
   "metadata": {
    "ExecuteTime": {
     "end_time": "2022-10-08T00:22:25.792535Z",
     "start_time": "2022-10-08T00:22:25.779569Z"
    }
   },
   "outputs": [],
   "source": [
    "import pandas as pd \n",
    "data = {'Name':['Tom', 'nick', 'krish', 'jack'],\n",
    "        'Age':[20, 21, 19, 18]}\n",
    " \n",
    "# Create DataFrame\n",
    "df = pd.DataFrame(data)"
   ]
  },
  {
   "cell_type": "code",
   "execution_count": 10,
   "id": "3fc8028c",
   "metadata": {
    "ExecuteTime": {
     "end_time": "2022-10-08T00:22:27.190525Z",
     "start_time": "2022-10-08T00:22:27.175025Z"
    }
   },
   "outputs": [
    {
     "data": {
      "text/html": [
       "<div>\n",
       "<style scoped>\n",
       "    .dataframe tbody tr th:only-of-type {\n",
       "        vertical-align: middle;\n",
       "    }\n",
       "\n",
       "    .dataframe tbody tr th {\n",
       "        vertical-align: top;\n",
       "    }\n",
       "\n",
       "    .dataframe thead th {\n",
       "        text-align: right;\n",
       "    }\n",
       "</style>\n",
       "<table border=\"1\" class=\"dataframe\">\n",
       "  <thead>\n",
       "    <tr style=\"text-align: right;\">\n",
       "      <th></th>\n",
       "      <th>Name</th>\n",
       "      <th>Age</th>\n",
       "    </tr>\n",
       "  </thead>\n",
       "  <tbody>\n",
       "    <tr>\n",
       "      <th>1</th>\n",
       "      <td>nick</td>\n",
       "      <td>21</td>\n",
       "    </tr>\n",
       "    <tr>\n",
       "      <th>3</th>\n",
       "      <td>jack</td>\n",
       "      <td>18</td>\n",
       "    </tr>\n",
       "    <tr>\n",
       "      <th>0</th>\n",
       "      <td>Tom</td>\n",
       "      <td>20</td>\n",
       "    </tr>\n",
       "  </tbody>\n",
       "</table>\n",
       "</div>"
      ],
      "text/plain": [
       "   Name  Age\n",
       "1  nick   21\n",
       "3  jack   18\n",
       "0   Tom   20"
      ]
     },
     "execution_count": 10,
     "metadata": {},
     "output_type": "execute_result"
    }
   ],
   "source": [
    "# n: number of rows to be extracted randomly\n",
    "# random_state fixed for reproducibility\n",
    "# replace = True for extraction with replacement\n",
    "\n",
    "df.sample(n=3, random_state=42, replace=False)\n"
   ]
  },
  {
   "cell_type": "markdown",
   "id": "e8fdda52",
   "metadata": {},
   "source": [
    "# Appened to datafile "
   ]
  },
  {
   "cell_type": "code",
   "execution_count": 16,
   "id": "21d51a52",
   "metadata": {
    "ExecuteTime": {
     "end_time": "2022-10-08T03:33:32.359269Z",
     "start_time": "2022-10-08T03:33:32.343241Z"
    }
   },
   "outputs": [],
   "source": [
    "# Append Pandas DataFrame to Existing CSV File\n",
    "# importing pandas module\n",
    "import pandas as pd\n",
    " \n",
    "# data of Player and their performance\n",
    "data = {\n",
    "    'Name': ['Hardik', 'Pollard', 'Bravo'],\n",
    "    'Run': [50, 63, 15],\n",
    "    'Wicket': [0, 2, 3],\n",
    "    'Catch': [4, 2, 1]\n",
    "}\n",
    " \n",
    "# Make data frame of above data\n",
    "df = pd.DataFrame(data)\n",
    " \n",
    "df.to_csv(\"cs.csv\",mode='a',header=False)\n"
   ]
  },
  {
   "cell_type": "code",
   "execution_count": 17,
   "id": "dff56105",
   "metadata": {
    "ExecuteTime": {
     "end_time": "2022-10-08T03:34:26.581163Z",
     "start_time": "2022-10-08T03:34:26.550034Z"
    }
   },
   "outputs": [
    {
     "data": {
      "text/html": [
       "<div>\n",
       "<style scoped>\n",
       "    .dataframe tbody tr th:only-of-type {\n",
       "        vertical-align: middle;\n",
       "    }\n",
       "\n",
       "    .dataframe tbody tr th {\n",
       "        vertical-align: top;\n",
       "    }\n",
       "\n",
       "    .dataframe thead th {\n",
       "        text-align: right;\n",
       "    }\n",
       "</style>\n",
       "<table border=\"1\" class=\"dataframe\">\n",
       "  <thead>\n",
       "    <tr style=\"text-align: right;\">\n",
       "      <th></th>\n",
       "      <th>Unnamed: 0</th>\n",
       "      <th>Name</th>\n",
       "      <th>Run</th>\n",
       "      <th>Wicket</th>\n",
       "      <th>Catch</th>\n",
       "    </tr>\n",
       "  </thead>\n",
       "  <tbody>\n",
       "    <tr>\n",
       "      <th>0</th>\n",
       "      <td>0</td>\n",
       "      <td>Hardik</td>\n",
       "      <td>50</td>\n",
       "      <td>0</td>\n",
       "      <td>4</td>\n",
       "    </tr>\n",
       "    <tr>\n",
       "      <th>1</th>\n",
       "      <td>1</td>\n",
       "      <td>Pollard</td>\n",
       "      <td>63</td>\n",
       "      <td>2</td>\n",
       "      <td>2</td>\n",
       "    </tr>\n",
       "    <tr>\n",
       "      <th>2</th>\n",
       "      <td>2</td>\n",
       "      <td>Bravo</td>\n",
       "      <td>15</td>\n",
       "      <td>3</td>\n",
       "      <td>1</td>\n",
       "    </tr>\n",
       "    <tr>\n",
       "      <th>3</th>\n",
       "      <td>0</td>\n",
       "      <td>Hardik</td>\n",
       "      <td>50</td>\n",
       "      <td>0</td>\n",
       "      <td>4</td>\n",
       "    </tr>\n",
       "    <tr>\n",
       "      <th>4</th>\n",
       "      <td>1</td>\n",
       "      <td>Pollard</td>\n",
       "      <td>63</td>\n",
       "      <td>2</td>\n",
       "      <td>2</td>\n",
       "    </tr>\n",
       "    <tr>\n",
       "      <th>5</th>\n",
       "      <td>2</td>\n",
       "      <td>Bravo</td>\n",
       "      <td>15</td>\n",
       "      <td>3</td>\n",
       "      <td>1</td>\n",
       "    </tr>\n",
       "  </tbody>\n",
       "</table>\n",
       "</div>"
      ],
      "text/plain": [
       "   Unnamed: 0     Name  Run  Wicket  Catch\n",
       "0           0   Hardik   50       0      4\n",
       "1           1  Pollard   63       2      2\n",
       "2           2    Bravo   15       3      1\n",
       "3           0   Hardik   50       0      4\n",
       "4           1  Pollard   63       2      2\n",
       "5           2    Bravo   15       3      1"
      ]
     },
     "execution_count": 17,
     "metadata": {},
     "output_type": "execute_result"
    }
   ],
   "source": [
    "d= pd.read_csv(\"cs.csv\")\n",
    "d"
   ]
  },
  {
   "cell_type": "markdown",
   "id": "acc4c616",
   "metadata": {},
   "source": [
    "# What is lamda Expression"
   ]
  },
  {
   "cell_type": "markdown",
   "id": "b5749810",
   "metadata": {},
   "source": [
    "- Lamda is just one line anonymous function\n",
    "- Useful when writing function inside function\n",
    "- it can take multiple arguments but computes only one expression\n",
    "\n",
    "Syntax:\n",
    ">x = lambda arguments : expression\n"
   ]
  },
  {
   "cell_type": "code",
   "execution_count": 19,
   "id": "1ee1159c",
   "metadata": {
    "ExecuteTime": {
     "end_time": "2022-10-08T03:42:13.500760Z",
     "start_time": "2022-10-08T03:42:13.493778Z"
    },
    "scrolled": true
   },
   "outputs": [
    {
     "name": "stdout",
     "output_type": "stream",
     "text": [
      "0\n"
     ]
    }
   ],
   "source": [
    "remainder = lambda num: num % 2\n",
    "\n",
    "print(remainder(10))\n"
   ]
  },
  {
   "cell_type": "markdown",
   "id": "732764a8",
   "metadata": {},
   "source": [
    "# Merge More than two data frame"
   ]
  },
  {
   "cell_type": "code",
   "execution_count": 20,
   "id": "fff40781",
   "metadata": {
    "ExecuteTime": {
     "end_time": "2022-10-08T03:44:45.805821Z",
     "start_time": "2022-10-08T03:44:45.786452Z"
    }
   },
   "outputs": [],
   "source": [
    "df1 = pd.DataFrame(\n",
    "    {\n",
    "        \"A\": [\"A0\", \"A1\", \"A2\", \"A3\"],\n",
    "        \"B\": [\"B0\", \"B1\", \"B2\", \"B3\"],\n",
    "        \"C\": [\"C0\", \"C1\", \"C2\", \"C3\"],\n",
    "        \"D\": [\"D0\", \"D1\", \"D2\", \"D3\"],\n",
    "    },\n",
    "    index=[0, 1, 2, 3],\n",
    ")\n",
    "\n",
    "df2 = pd.DataFrame(\n",
    "    {\n",
    "        \"A\": [\"A4\", \"A5\", \"A6\", \"A7\"],\n",
    "        \"B\": [\"B4\", \"B5\", \"B6\", \"B7\"],\n",
    "        \"C\": [\"C4\", \"C5\", \"C6\", \"C7\"],\n",
    "        \"D\": [\"D4\", \"D5\", \"D6\", \"D7\"],\n",
    "    },\n",
    "    index=[4, 5, 6, 7],\n",
    ")\n",
    "\n",
    "df3 = pd.DataFrame(\n",
    "    {\n",
    "        \"A\": [\"A8\", \"A9\", \"A10\", \"A11\"],\n",
    "        \"B\": [\"B8\", \"B9\", \"B10\", \"B11\"],\n",
    "        \"C\": [\"C8\", \"C9\", \"C10\", \"C11\"],\n",
    "        \"D\": [\"D8\", \"D9\", \"D10\", \"D11\"],\n",
    "    },\n",
    "    index=[8, 9, 10, 11],\n",
    ")\n",
    "\n",
    "frames = [df1, df2, df3]\n",
    "\n",
    "result = pd.concat(frames)"
   ]
  },
  {
   "attachments": {
    "image.png": {
     "image/png": "[encoded data removed]"
    }
   },
   "cell_type": "markdown",
   "id": "87eda6d3",
   "metadata": {},
   "source": [
    "![image.png](attachment:image.png)"
   ]
  },
  {
   "cell_type": "code",
   "execution_count": 22,
   "id": "153b81a7",
   "metadata": {
    "ExecuteTime": {
     "end_time": "2022-10-08T03:49:34.508894Z",
     "start_time": "2022-10-08T03:49:34.494335Z"
    }
   },
   "outputs": [],
   "source": [
    "left = pd.DataFrame({\n",
    "    \"key\": [\"K0\", \"K1\", \"K2\", \"K3\"],\n",
    "    \"A\": [\"A0\", \"A1\", \"A2\", \"A3\"],\n",
    "    \"B\": [\"B0\", \"B1\", \"B2\", \"B3\"],\n",
    "})\n",
    "right = pd.DataFrame({\n",
    "    \"key\": [\"K0\", \"K1\", \"K2\", \"K3\"],\n",
    "    \"C\": [\"C0\", \"C1\", \"C2\", \"C3\"],\n",
    "    \"D\": [\"D0\", \"D1\", \"D2\", \"D3\"],\n",
    "})\n",
    "result = pd.merge(left, right, on=\"key\",how=\"left\",)"
   ]
  },
  {
   "attachments": {
    "image.png": {
     "image/png": "[encoded data removed]"
    }
   },
   "cell_type": "markdown",
   "id": "a75037db",
   "metadata": {},
   "source": [
    "![image.png](attachment:image.png)"
   ]
  },
  {
   "cell_type": "markdown",
   "id": "5b64f78b",
   "metadata": {},
   "source": [
    "<table class=\"colwidths-given table\">\n",
    "<colgroup>\n",
    "<col style=\"width: 20%\">\n",
    "<col style=\"width: 20%\">\n",
    "<col style=\"width: 60%\">\n",
    "</colgroup>\n",
    "<thead>\n",
    "<tr class=\"row-odd\"><th class=\"head\"><p>Merge method</p></th>\n",
    "<th class=\"head\"><p>SQL Join Name</p></th>\n",
    "<th class=\"head\"><p>Description</p></th>\n",
    "</tr>\n",
    "</thead>\n",
    "<tbody>\n",
    "<tr class=\"row-even\"><td><p><code class=\"docutils literal notranslate\"><span class=\"pre\">left</span></code></p></td>\n",
    "<td><p><code class=\"docutils literal notranslate\"><span class=\"pre\">LEFT</span> <span class=\"pre\">OUTER</span> <span class=\"pre\">JOIN</span></code></p></td>\n",
    "<td><p>Use keys from left frame only</p></td>\n",
    "</tr>\n",
    "<tr class=\"row-odd\"><td><p><code class=\"docutils literal notranslate\"><span class=\"pre\">right</span></code></p></td>\n",
    "<td><p><code class=\"docutils literal notranslate\"><span class=\"pre\">RIGHT</span> <span class=\"pre\">OUTER</span> <span class=\"pre\">JOIN</span></code></p></td>\n",
    "<td><p>Use keys from right frame only</p></td>\n",
    "</tr>\n",
    "<tr class=\"row-even\"><td><p><code class=\"docutils literal notranslate\"><span class=\"pre\">outer</span></code></p></td>\n",
    "<td><p><code class=\"docutils literal notranslate\"><span class=\"pre\">FULL</span> <span class=\"pre\">OUTER</span> <span class=\"pre\">JOIN</span></code></p></td>\n",
    "<td><p>Use union of keys from both frames</p></td>\n",
    "</tr>\n",
    "<tr class=\"row-odd\"><td><p><code class=\"docutils literal notranslate\"><span class=\"pre\">inner</span></code></p></td>\n",
    "<td><p><code class=\"docutils literal notranslate\"><span class=\"pre\">INNER</span> <span class=\"pre\">JOIN</span></code></p></td>\n",
    "<td><p>Use intersection of keys from both frames</p></td>\n",
    "</tr>\n",
    "<tr class=\"row-even\"><td><p><code class=\"docutils literal notranslate\"><span class=\"pre\">cross</span></code></p></td>\n",
    "<td><p><code class=\"docutils literal notranslate\"><span class=\"pre\">CROSS</span> <span class=\"pre\">JOIN</span></code></p></td>\n",
    "<td><p>Create the cartesian product of rows of both frames</p></td>\n",
    "</tr>\n",
    "</tbody>\n",
    "</table>"
   ]
  }
 ],
 "metadata": {
  "kernelspec": {
   "display_name": "Python 3 (ipykernel)",
   "language": "python",
   "name": "python3"
  },
  "language_info": {
   "codemirror_mode": {
    "name": "ipython",
    "version": 3
   },
   "file_extension": ".py",
   "mimetype": "text/x-python",
   "name": "python",
   "nbconvert_exporter": "python",
   "pygments_lexer": "ipython3",
   "version": "3.8.5"
  },
  "toc": {
   "base_numbering": 1,
   "nav_menu": {},
   "number_sections": true,
   "sideBar": true,
   "skip_h1_title": false,
   "title_cell": "Table of Contents",
   "title_sidebar": "Contents",
   "toc_cell": false,
   "toc_position": {},
   "toc_section_display": true,
   "toc_window_display": false
  },
  "varInspector": {
   "cols": {
    "lenName": 16,
    "lenType": 16,
    "lenVar": 40
   },
   "kernels_config": {
    "python": {
     "delete_cmd_postfix": "",
     "delete_cmd_prefix": "del ",
     "library": "var_list.py",
     "varRefreshCmd": "print(var_dic_list())"
    },
    "r": {
     "delete_cmd_postfix": ") ",
     "delete_cmd_prefix": "rm(",
     "library": "var_list.r",
     "varRefreshCmd": "cat(var_dic_list()) "
    }
   },
   "types_to_exclude": [
    "module",
    "function",
    "builtin_function_or_method",
    "instance",
    "_Feature"
   ],
   "window_display": false
  }
 },
 "nbformat": 4,
 "nbformat_minor": 5
}
