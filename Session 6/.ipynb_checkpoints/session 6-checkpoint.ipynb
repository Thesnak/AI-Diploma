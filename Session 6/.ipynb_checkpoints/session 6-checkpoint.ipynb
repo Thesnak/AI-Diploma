{
 "cells": [
  {
   "cell_type": "markdown",
   "id": "bd9a7a96",
   "metadata": {},
   "source": [
    "# This session by date 11/09/2022"
   ]
  },
  {
   "cell_type": "markdown",
   "id": "c5e9e60b",
   "metadata": {},
   "source": [
    "## OOP\n",
    "1. Abstraction\n",
    "2. Encapsulation (puclic - private - protected)\n",
    "3. Inheritance (Single inheritance - Multi-level inheritance - Multiple inheritance - Multipath inheritance - Hierarchical Inheritance - Hybrid Inheritance )\n",
    "4. Polymorphism (override - overload)\n",
    "5. composion (object & classes)"
   ]
  },
  {
   "cell_type": "markdown",
   "id": "7426a370",
   "metadata": {},
   "source": [
    "## OOP project that include all the 5 concepts"
   ]
  },
  {
   "cell_type": "code",
   "execution_count": 1,
   "id": "f39c0526",
   "metadata": {},
   "outputs": [],
   "source": [
    "class Human:\n",
    "    \n",
    "    name = None\n",
    "    age = None\n",
    "    gender  = None\n",
    "    height = None"
   ]
  },
  {
   "cell_type": "code",
   "execution_count": 2,
   "id": "e57b9fc9",
   "metadata": {},
   "outputs": [],
   "source": [
    "Anas = Human()"
   ]
  },
  {
   "cell_type": "code",
   "execution_count": 3,
   "id": "37ea71a5",
   "metadata": {},
   "outputs": [],
   "source": [
    "Anas.name = \"anas\"\n",
    "Anas.age = 22\n",
    "Anas.gender = \"male\" \n",
    "Anas.height = 180"
   ]
  },
  {
   "cell_type": "code",
   "execution_count": 7,
   "id": "87951db3",
   "metadata": {},
   "outputs": [],
   "source": [
    "class Human():\n",
    "    name = None\n",
    "    age = None\n",
    "    gender  = None\n",
    "    height = None\n",
    "    \n",
    "    def cry(self):\n",
    "        print(\"waaaa\")"
   ]
  },
  {
   "cell_type": "code",
   "execution_count": 8,
   "id": "7386688a",
   "metadata": {},
   "outputs": [],
   "source": [
    "a = Human()"
   ]
  },
  {
   "cell_type": "code",
   "execution_count": 9,
   "id": "573a3809",
   "metadata": {},
   "outputs": [
    {
     "name": "stdout",
     "output_type": "stream",
     "text": [
      "waaaa\n"
     ]
    }
   ],
   "source": [
    "a.cry()"
   ]
  },
  {
   "cell_type": "code",
   "execution_count": 10,
   "id": "01625ca2",
   "metadata": {},
   "outputs": [],
   "source": [
    "class Human():\n",
    "    \n",
    "    def __init__(self):\n",
    "        print(\"ay haga\")\n",
    "        \n",
    "        \n",
    "    name = None\n",
    "    age = None\n",
    "    gender  = None\n",
    "    height = None\n",
    "    \n",
    "    def cry(self):\n",
    "        print(\"waaaa\")"
   ]
  },
  {
   "cell_type": "code",
   "execution_count": 11,
   "id": "110cdb12",
   "metadata": {},
   "outputs": [
    {
     "name": "stdout",
     "output_type": "stream",
     "text": [
      "ay haga\n"
     ]
    }
   ],
   "source": [
    "a = Human()"
   ]
  },
  {
   "cell_type": "code",
   "execution_count": 20,
   "id": "bade7655",
   "metadata": {},
   "outputs": [],
   "source": [
    "class Human():\n",
    "    \n",
    "    def __init__(self):\n",
    "        self.name = input()\n",
    "        self.age = int(input())\n",
    "        self.gender  = input()\n",
    "        \n",
    "    def addcreditcard(self):\n",
    "        self.creidt = 0\n",
    "        \n",
    "    def cry(self):\n",
    "        print(\"waaaa\")"
   ]
  },
  {
   "cell_type": "code",
   "execution_count": 22,
   "id": "e18017df",
   "metadata": {},
   "outputs": [
    {
     "name": "stdout",
     "output_type": "stream",
     "text": [
      "radwa\n",
      "123456\n",
      "123456789\n"
     ]
    }
   ],
   "source": [
    "a = Human()"
   ]
  },
  {
   "cell_type": "code",
   "execution_count": 23,
   "id": "919f7068",
   "metadata": {},
   "outputs": [
    {
     "data": {
      "text/plain": [
       "'radwa'"
      ]
     },
     "execution_count": 23,
     "metadata": {},
     "output_type": "execute_result"
    }
   ],
   "source": [
    "a.name"
   ]
  },
  {
   "cell_type": "code",
   "execution_count": 24,
   "id": "a12d420f",
   "metadata": {},
   "outputs": [
    {
     "data": {
      "text/plain": [
       "123456"
      ]
     },
     "execution_count": 24,
     "metadata": {},
     "output_type": "execute_result"
    }
   ],
   "source": [
    "a.age"
   ]
  },
  {
   "cell_type": "code",
   "execution_count": 25,
   "id": "bca33f33",
   "metadata": {},
   "outputs": [
    {
     "data": {
      "text/plain": [
       "'123456789'"
      ]
     },
     "execution_count": 25,
     "metadata": {},
     "output_type": "execute_result"
    }
   ],
   "source": [
    "a.gender"
   ]
  },
  {
   "cell_type": "code",
   "execution_count": 26,
   "id": "74114f69",
   "metadata": {},
   "outputs": [],
   "source": [
    "class Human():\n",
    "    \n",
    "    def __init__(self):\n",
    "        self.name = input()\n",
    "        self.age = int(input())\n",
    "        self.gender  = input()\n",
    "        \n",
    "    def addcreditcard(self):\n",
    "        self.creidt = 0\n",
    "        \n",
    "    def cry(self, x):\n",
    "        print(\"waaaa\" , x)"
   ]
  },
  {
   "cell_type": "code",
   "execution_count": 27,
   "id": "6984b34e",
   "metadata": {},
   "outputs": [
    {
     "name": "stdout",
     "output_type": "stream",
     "text": [
      "radwa\n",
      "123456\n",
      "123456789\n",
      "waaaa radwa\n"
     ]
    }
   ],
   "source": [
    "a = Human()\n",
    "a.cry(\"radwa\")"
   ]
  },
  {
   "cell_type": "code",
   "execution_count": 33,
   "id": "6801db79",
   "metadata": {},
   "outputs": [],
   "source": [
    "class BankAccount:\n",
    "    \n",
    "    def __init__(self):\n",
    "        print(\"welcome to our bank,please enter your information\")\n",
    "        self.username = input(\"please inter your username: \")\n",
    "        self.password = int(input(\"please enter your password: \"))\n",
    "        self.credit = 0\n",
    "        self.nationalid = input(\"please enter your id\")\n",
    "        \n",
    "    def deposit(self, amount):\n",
    "        self.credit += amount\n",
    "        \n",
    "    def withdraw(self):\n",
    "        amount = float(input(\"please enter the amount: \"))\n",
    "        if amount <= self.credit:\n",
    "            self.credit -= amount\n",
    "            print(\"done\")\n",
    "            \n",
    "    def changepassword(self):\n",
    "        nid = input(\"please enter your id\")\n",
    "        if nid == self.nationalid:\n",
    "            try:\n",
    "                self.password = int(input(\"please enter your password\"))\n",
    "                print(\"done\")\n",
    "            except:\n",
    "                print(\"error\")"
   ]
  },
  {
   "cell_type": "code",
   "execution_count": 34,
   "id": "6d2b68f9",
   "metadata": {},
   "outputs": [
    {
     "name": "stdout",
     "output_type": "stream",
     "text": [
      "welcome to our bank,please enter your information\n",
      "please inter your username: radwa\n",
      "please enter your password: 123456\n",
      "please enter your id123456789\n"
     ]
    }
   ],
   "source": [
    "b = BankAccount()"
   ]
  },
  {
   "cell_type": "code",
   "execution_count": 35,
   "id": "9d62e3a6",
   "metadata": {},
   "outputs": [],
   "source": [
    "b.deposit(2000)"
   ]
  },
  {
   "cell_type": "code",
   "execution_count": 36,
   "id": "1e12a572",
   "metadata": {},
   "outputs": [
    {
     "data": {
      "text/plain": [
       "2000"
      ]
     },
     "execution_count": 36,
     "metadata": {},
     "output_type": "execute_result"
    }
   ],
   "source": [
    "b.credit"
   ]
  },
  {
   "cell_type": "code",
   "execution_count": 37,
   "id": "f01d3dac",
   "metadata": {},
   "outputs": [
    {
     "name": "stdout",
     "output_type": "stream",
     "text": [
      "please enter the amount: 2000\n",
      "done\n"
     ]
    }
   ],
   "source": [
    "b.withdraw()"
   ]
  },
  {
   "cell_type": "code",
   "execution_count": 38,
   "id": "a9e6797a",
   "metadata": {},
   "outputs": [
    {
     "data": {
      "text/plain": [
       "0.0"
      ]
     },
     "execution_count": 38,
     "metadata": {},
     "output_type": "execute_result"
    }
   ],
   "source": [
    "b.credit"
   ]
  },
  {
   "cell_type": "code",
   "execution_count": 39,
   "id": "8fb75e25",
   "metadata": {},
   "outputs": [
    {
     "name": "stdout",
     "output_type": "stream",
     "text": [
      "please enter your id123456789\n",
      "please enter your password123456\n",
      "done\n"
     ]
    }
   ],
   "source": [
    "b.changepassword()"
   ]
  },
  {
   "cell_type": "code",
   "execution_count": 41,
   "id": "715c06ff",
   "metadata": {},
   "outputs": [],
   "source": [
    "class BankAccount:\n",
    "    \n",
    "    def __init__(self):\n",
    "        print(\"welcome to our bank,please enter your information\")\n",
    "        self.username = input(\"please inter your username: \")\n",
    "        self.__password = int(input(\"please enter your password: \"))\n",
    "        self.__credit = 0\n",
    "        self.__nationalid = input(\"please enter your id\")\n",
    "        \n",
    "    def deposit(self, amount):\n",
    "        self.__pfunction()\n",
    "        self.__credit += amount\n",
    "        \n",
    "    def withdraw(self):\n",
    "        amount = float(input(\"please enter the amount: \"))\n",
    "        if amount <= self.__credit:\n",
    "            self.__credit -= amount\n",
    "            print(\"done\")\n",
    "    \n",
    "    def __pfunction(self):\n",
    "        print(\"private function\")\n",
    "    \n",
    "    def changepassword(self):\n",
    "        nid = input(\"please enter your id\")\n",
    "        if nid == self.__nationalid:\n",
    "            try:\n",
    "                self.__password = int(input(\"please enter your password\"))\n",
    "                print(\"done\")\n",
    "            except:\n",
    "                print(\"error\")"
   ]
  },
  {
   "cell_type": "code",
   "execution_count": 42,
   "id": "8b6a6b70",
   "metadata": {},
   "outputs": [
    {
     "name": "stdout",
     "output_type": "stream",
     "text": [
      "welcome to our bank,please enter your information\n",
      "please inter your username: radwa\n",
      "please enter your password: 123456\n",
      "please enter your id123456789\n"
     ]
    }
   ],
   "source": [
    "a = BankAccount()"
   ]
  },
  {
   "cell_type": "code",
   "execution_count": 43,
   "id": "38400a08",
   "metadata": {},
   "outputs": [
    {
     "name": "stdout",
     "output_type": "stream",
     "text": [
      "private function\n"
     ]
    }
   ],
   "source": [
    "a.deposit(2000)"
   ]
  },
  {
   "cell_type": "code",
   "execution_count": 46,
   "id": "24f638d8",
   "metadata": {},
   "outputs": [],
   "source": [
    "class AhlyBankAccount(BankAccount):\n",
    "    def DigitalWallet(self):\n",
    "        self.Dcredit = 0\n",
    "        print(\"your didgital wallet is created\")"
   ]
  },
  {
   "cell_type": "code",
   "execution_count": 47,
   "id": "93b92965",
   "metadata": {},
   "outputs": [
    {
     "name": "stdout",
     "output_type": "stream",
     "text": [
      "welcome to our bank,please enter your information\n",
      "please inter your username: radwa\n",
      "please enter your password: 123456\n",
      "please enter your id123456789\n"
     ]
    }
   ],
   "source": [
    "a = AhlyBankAccount()"
   ]
  },
  {
   "cell_type": "code",
   "execution_count": 48,
   "id": "1e260896",
   "metadata": {},
   "outputs": [
    {
     "name": "stdout",
     "output_type": "stream",
     "text": [
      "your didgital wallet is created\n"
     ]
    }
   ],
   "source": [
    "a.DigitalWallet()"
   ]
  },
  {
   "cell_type": "code",
   "execution_count": 51,
   "id": "e0a60338",
   "metadata": {},
   "outputs": [],
   "source": [
    "class AhlyBankAccount(BankAccount):\n",
    "    \n",
    "    def __init__(self):\n",
    "        print(\"welcome to ahly bank\")\n",
    "        BankAccount.__init__(self)\n",
    "    \n",
    "    def DigitalWallet(self):\n",
    "        self.Dcredit = 0\n",
    "        print(\"your didgital wallet is created\")"
   ]
  },
  {
   "cell_type": "code",
   "execution_count": 54,
   "id": "d611222e",
   "metadata": {},
   "outputs": [
    {
     "name": "stdout",
     "output_type": "stream",
     "text": [
      "private function\n"
     ]
    }
   ],
   "source": [
    "a.deposit(2000)"
   ]
  },
  {
   "cell_type": "code",
   "execution_count": 55,
   "id": "1b50bead",
   "metadata": {},
   "outputs": [
    {
     "name": "stdout",
     "output_type": "stream",
     "text": [
      "please enter the amount: 1200\n",
      "done\n"
     ]
    }
   ],
   "source": [
    "a.withdraw()"
   ]
  },
  {
   "cell_type": "markdown",
   "id": "db563363",
   "metadata": {},
   "source": [
    "## Tasks"
   ]
  },
  {
   "cell_type": "markdown",
   "id": "f3949850",
   "metadata": {},
   "source": [
    "1. How to block any website from the server\n",
    "2. all design diagrams for a small project (use case-dfd-activity-erd-sequence-class)\n",
    "3. all types of inheritance and when to use each type\n",
    "4. how to pass functiona as a parameter to another function\n",
    "5. how to make the class protected in python"
   ]
  }
 ],
 "metadata": {
  "kernelspec": {
   "display_name": "Python 3 (ipykernel)",
   "language": "python",
   "name": "python3"
  },
  "language_info": {
   "codemirror_mode": {
    "name": "ipython",
    "version": 3
   },
   "file_extension": ".py",
   "mimetype": "text/x-python",
   "name": "python",
   "nbconvert_exporter": "python",
   "pygments_lexer": "ipython3",
   "version": "3.8.5"
  },
  "toc": {
   "base_numbering": 1,
   "nav_menu": {},
   "number_sections": true,
   "sideBar": true,
   "skip_h1_title": false,
   "title_cell": "Table of Contents",
   "title_sidebar": "Contents",
   "toc_cell": false,
   "toc_position": {},
   "toc_section_display": true,
   "toc_window_display": false
  },
  "varInspector": {
   "cols": {
    "lenName": 16,
    "lenType": 16,
    "lenVar": 40
   },
   "kernels_config": {
    "python": {
     "delete_cmd_postfix": "",
     "delete_cmd_prefix": "del ",
     "library": "var_list.py",
     "varRefreshCmd": "print(var_dic_list())"
    },
    "r": {
     "delete_cmd_postfix": ") ",
     "delete_cmd_prefix": "rm(",
     "library": "var_list.r",
     "varRefreshCmd": "cat(var_dic_list()) "
    }
   },
   "types_to_exclude": [
    "module",
    "function",
    "builtin_function_or_method",
    "instance",
    "_Feature"
   ],
   "window_display": false
  }
 },
 "nbformat": 4,
 "nbformat_minor": 5
}
