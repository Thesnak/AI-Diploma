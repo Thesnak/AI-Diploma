{
 "cells": [
  {
   "cell_type": "code",
   "execution_count": 24,
   "id": "f9a74812",
   "metadata": {
    "ExecuteTime": {
     "end_time": "2022-09-19T20:34:53.165123Z",
     "start_time": "2022-09-19T20:34:53.156146Z"
    }
   },
   "outputs": [],
   "source": [
    "f = open(\"reg.txt\",'r')\n",
    "string=f.readlines()"
   ]
  },
  {
   "cell_type": "code",
   "execution_count": 25,
   "id": "6a01a260",
   "metadata": {
    "ExecuteTime": {
     "end_time": "2022-09-19T20:34:54.749666Z",
     "start_time": "2022-09-19T20:34:54.744627Z"
    }
   },
   "outputs": [],
   "source": [
    "string = ''.join(string)"
   ]
  },
  {
   "cell_type": "code",
   "execution_count": 26,
   "id": "81e4193b",
   "metadata": {
    "ExecuteTime": {
     "end_time": "2022-09-19T20:34:56.449246Z",
     "start_time": "2022-09-19T20:34:56.432423Z"
    }
   },
   "outputs": [],
   "source": [
    "import re\n",
    "namesPattern=re.compile(r\"\\b([A-ZÀ-ÿ][-,a-z. ']+[ ]*)+,\")\n",
    "phonePattern=re.compile(r\"(01)[0-9]{9}\")\n",
    "mailPattern=re.compile(r\"[A-z]+@[A-Za-z]+.\\w+\")\n",
    "names=[]\n",
    "phones=[]\n",
    "mails=[]\n",
    "namesMatches = namesPattern.finditer(string)\n",
    "phoneMatches = phonePattern.finditer(string)\n",
    "mailMatches = mailPattern.finditer(string)\n",
    "\n",
    "for i in namesMatches:\n",
    "    names.append(string[i.span()[0]:i.span()[1]-1])\n",
    "for i in phoneMatches:\n",
    "    phones.append(string[i.span()[0]:i.span()[1]])\n",
    "for i in mailMatches:\n",
    "    mails.append(string[i.span()[0]:i.span()[1]])"
   ]
  },
  {
   "cell_type": "code",
   "execution_count": 27,
   "id": "44d10958",
   "metadata": {
    "ExecuteTime": {
     "end_time": "2022-09-19T20:34:57.655062Z",
     "start_time": "2022-09-19T20:34:57.644091Z"
    }
   },
   "outputs": [
    {
     "data": {
      "text/plain": [
       "['Ahmed Mohamed',\n",
       " 'Mohamed Ahmed',\n",
       " 'Hossam Khaled',\n",
       " 'Medhat salah',\n",
       " 'Mostafa Sasa']"
      ]
     },
     "execution_count": 27,
     "metadata": {},
     "output_type": "execute_result"
    }
   ],
   "source": [
    "names\n"
   ]
  },
  {
   "cell_type": "code",
   "execution_count": 28,
   "id": "db382f23",
   "metadata": {
    "ExecuteTime": {
     "end_time": "2022-09-19T20:34:59.772613Z",
     "start_time": "2022-09-19T20:34:59.763634Z"
    }
   },
   "outputs": [
    {
     "data": {
      "text/plain": [
       "['01234567890', '01234567890', '01234567890', '01234567890', '01234567890']"
      ]
     },
     "execution_count": 28,
     "metadata": {},
     "output_type": "execute_result"
    }
   ],
   "source": [
    "phones\n"
   ]
  },
  {
   "cell_type": "code",
   "execution_count": 29,
   "id": "a15e7b24",
   "metadata": {
    "ExecuteTime": {
     "end_time": "2022-09-19T20:35:01.954513Z",
     "start_time": "2022-09-19T20:35:01.943354Z"
    }
   },
   "outputs": [
    {
     "data": {
      "text/plain": [
       "['Ahmed@gmail.com',\n",
       " 'Mohamed@gmail.com',\n",
       " 'Hossam@gmail.com',\n",
       " 'Medhat@gmail.com',\n",
       " 'Mostafa@gmail.com']"
      ]
     },
     "execution_count": 29,
     "metadata": {},
     "output_type": "execute_result"
    }
   ],
   "source": [
    "mails"
   ]
  }
 ],
 "metadata": {
  "kernelspec": {
   "display_name": "Python 3 (ipykernel)",
   "language": "python",
   "name": "python3"
  },
  "language_info": {
   "codemirror_mode": {
    "name": "ipython",
    "version": 3
   },
   "file_extension": ".py",
   "mimetype": "text/x-python",
   "name": "python",
   "nbconvert_exporter": "python",
   "pygments_lexer": "ipython3",
   "version": "3.8.5"
  },
  "toc": {
   "base_numbering": 1,
   "nav_menu": {},
   "number_sections": true,
   "sideBar": true,
   "skip_h1_title": false,
   "title_cell": "Table of Contents",
   "title_sidebar": "Contents",
   "toc_cell": false,
   "toc_position": {},
   "toc_section_display": true,
   "toc_window_display": false
  },
  "varInspector": {
   "cols": {
    "lenName": 16,
    "lenType": 16,
    "lenVar": 40
   },
   "kernels_config": {
    "python": {
     "delete_cmd_postfix": "",
     "delete_cmd_prefix": "del ",
     "library": "var_list.py",
     "varRefreshCmd": "print(var_dic_list())"
    },
    "r": {
     "delete_cmd_postfix": ") ",
     "delete_cmd_prefix": "rm(",
     "library": "var_list.r",
     "varRefreshCmd": "cat(var_dic_list()) "
    }
   },
   "types_to_exclude": [
    "module",
    "function",
    "builtin_function_or_method",
    "instance",
    "_Feature"
   ],
   "window_display": false
  }
 },
 "nbformat": 4,
 "nbformat_minor": 5
}
