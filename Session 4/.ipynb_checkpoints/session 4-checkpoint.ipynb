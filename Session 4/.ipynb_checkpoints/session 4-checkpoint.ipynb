{
 "cells": [
  {
   "cell_type": "markdown",
   "id": "fe640c08",
   "metadata": {},
   "source": [
    "<h1>This session is by date 04-09-2022</h1>"
   ]
  },
  {
   "cell_type": "markdown",
   "id": "ea80ef9f",
   "metadata": {},
   "source": [
    "<h1>Data stractures</h1>"
   ]
  },
  {
   "cell_type": "markdown",
   "id": "b35f4476",
   "metadata": {},
   "source": [
    "1. arrays\n",
    "2. vectors\n",
    "3. linked list\n",
    "4. stack\n",
    "5. queue\n",
    "6. dequeue\n",
    "7. map\n",
    "8. set\n",
    "9. trees\n",
    "10. hash tables"
   ]
  },
  {
   "cell_type": "markdown",
   "id": "bbbb3971",
   "metadata": {},
   "source": [
    "<h3>complixty</h3>\n",
    "\n",
    "cout << 5 << endl;\n",
    "\n",
    "cout << 3 << endl;\n",
    "\n",
    "if (5>3)\n",
    "\n",
    "cout << \"yes\" << endl;\n",
    "\n",
    "O(3) ---> O(1) "
   ]
  },
  {
   "cell_type": "markdown",
   "id": "dd10acff",
   "metadata": {},
   "source": [
    "a = [1,9,7,8,9,10]\n",
    "\n",
    "sort (a) ;\n",
    "\n",
    "quick sort\n",
    "\n",
    "nLogn"
   ]
  },
  {
   "cell_type": "markdown",
   "id": "bceb7cda",
   "metadata": {},
   "source": [
    "<h1>Tasks</h1>"
   ]
  },
  {
   "cell_type": "markdown",
   "id": "dc765d6d",
   "metadata": {},
   "source": [
    "1. Why are apple processors better and how could the rest be better?\n",
    "2. The diffrenece between each processor and the charastaristics of them?\n",
    "3. What is tabulation and momization?\n",
    "4. What is linear probing?\n",
    "5. Watch Mostafa saad hashing video.\n",
    "6. What is dynamic memory allocation and how to make it?\n",
    "7. All c++ frameworks in all tracks.\n",
    "8. What is web services , micro-services and APIs?\n",
    "9. how to write a multiple line code with different programming languages in the same program?\n",
    "10. All about cronjobs with examples\n",
    "11. comparison between core i7 and i9 in the performance of the same task\n",
    "12. Why set is fast data stracture?"
   ]
  }
 ],
 "metadata": {
  "kernelspec": {
   "display_name": "Python 3 (ipykernel)",
   "language": "python",
   "name": "python3"
  },
  "language_info": {
   "codemirror_mode": {
    "name": "ipython",
    "version": 3
   },
   "file_extension": ".py",
   "mimetype": "text/x-python",
   "name": "python",
   "nbconvert_exporter": "python",
   "pygments_lexer": "ipython3",
   "version": "3.8.5"
  },
  "toc": {
   "base_numbering": 1,
   "nav_menu": {},
   "number_sections": true,
   "sideBar": true,
   "skip_h1_title": false,
   "title_cell": "Table of Contents",
   "title_sidebar": "Contents",
   "toc_cell": false,
   "toc_position": {},
   "toc_section_display": true,
   "toc_window_display": false
  },
  "varInspector": {
   "cols": {
    "lenName": 16,
    "lenType": 16,
    "lenVar": 40
   },
   "kernels_config": {
    "python": {
     "delete_cmd_postfix": "",
     "delete_cmd_prefix": "del ",
     "library": "var_list.py",
     "varRefreshCmd": "print(var_dic_list())"
    },
    "r": {
     "delete_cmd_postfix": ") ",
     "delete_cmd_prefix": "rm(",
     "library": "var_list.r",
     "varRefreshCmd": "cat(var_dic_list()) "
    }
   },
   "types_to_exclude": [
    "module",
    "function",
    "builtin_function_or_method",
    "instance",
    "_Feature"
   ],
   "window_display": false
  }
 },
 "nbformat": 4,
 "nbformat_minor": 5
}
